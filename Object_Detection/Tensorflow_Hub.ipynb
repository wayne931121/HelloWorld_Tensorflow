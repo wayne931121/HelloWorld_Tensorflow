{
 "cells": [
  {
   "cell_type": "markdown",
   "id": "QGHk-c3dqtGo",
   "metadata": {
    "id": "QGHk-c3dqtGo"
   },
   "source": [
    "***參考教學網站：[https://www.tensorflow.org/hub/tutorials/object_detection](https://www.tensorflow.org/hub/tutorials/object_detection)***"
   ]
  },
  {
   "cell_type": "code",
   "execution_count": null,
   "id": "fj3GAQ3lczIy",
   "metadata": {
    "colab": {
     "base_uri": "https://localhost:8080/"
    },
    "id": "fj3GAQ3lczIy",
    "outputId": "18817731-e5c9-4a82-bf43-6abe29ae57d8"
   },
   "outputs": [],
   "source": [
    "!pip install tensorflow\n",
    "!pip install matplotlib\n",
    "!pip install tf_slim\n",
    "!pip install pycocotools\n",
    "!pip install pillow\n",
    "!pip install requests\n",
    "!pip install lxml"
   ]
  },
  {
   "cell_type": "code",
   "execution_count": null,
   "id": "G2cW4omidimk",
   "metadata": {
    "colab": {
     "base_uri": "https://localhost:8080/"
    },
    "id": "G2cW4omidimk",
    "outputId": "e9d768d0-9008-4367-b5e4-ed7799d648d2"
   },
   "outputs": [],
   "source": [
    " !pip install --upgrade tensorflow_hub"
   ]
  },
  {
   "cell_type": "code",
   "execution_count": null,
   "id": "4c1cf664",
   "metadata": {
    "colab": {
     "base_uri": "https://localhost:8080/"
    },
    "id": "4c1cf664",
    "outputId": "da52c224-bdcc-4e34-fbb2-17b706ba69b4"
   },
   "outputs": [],
   "source": [
    "import platform\n",
    "print(platform.system(),\"\\n\",platform.uname())"
   ]
  },
  {
   "cell_type": "code",
   "execution_count": null,
   "id": "831d7b03",
   "metadata": {
    "id": "831d7b03"
   },
   "outputs": [],
   "source": [
    "import tensorflow as tf\n",
    "import tensorflow_hub as hub\n",
    "import tempfile\n",
    "import matplotlib.pyplot as plt\n",
    "import numpy as np\n",
    "from PIL import Image\n",
    "from PIL import ImageColor\n",
    "from PIL import ImageDraw\n",
    "from PIL import ImageFont\n",
    "from PIL import ImageOps\n",
    "from IPython.display import display as ds\n",
    "import time\n",
    "import pathlib\n",
    "import requests\n",
    "import shutil\n",
    "from lxml import etree\n",
    "import os"
   ]
  },
  {
   "cell_type": "code",
   "execution_count": null,
   "id": "ce7db80c",
   "metadata": {
    "colab": {
     "base_uri": "https://localhost:8080/"
    },
    "id": "ce7db80c",
    "outputId": "3c3716fe-c9be-435a-e7c6-db632eb53b95"
   },
   "outputs": [],
   "source": [
    "print(tf.__version__)"
   ]
  },
  {
   "cell_type": "code",
   "execution_count": null,
   "id": "65399f62",
   "metadata": {},
   "outputs": [],
   "source": [
    "path =  os.getcwd() \n",
    "\n",
    "if(not os.path.exists(path+r\"\\images\")):\n",
    "   os.mkdir(\"images\")\n",
    "\n",
    "path=path.replace(\"\\\\\", \"/\")\n",
    "\n",
    "path=path+\"/images/\"\n",
    "\n",
    "print( path )"
   ]
  },
  {
   "cell_type": "code",
   "execution_count": null,
   "id": "42785ff7",
   "metadata": {
    "colab": {
     "base_uri": "https://localhost:8080/"
    },
    "id": "42785ff7",
    "outputId": "0b0f0273-e1ca-40e5-f854-d477937dcf5f"
   },
   "outputs": [],
   "source": [
    "print(\"Num GPUs Available: \", len(tf.config.list_physical_devices('GPU')))"
   ]
  },
  {
   "cell_type": "code",
   "execution_count": null,
   "id": "6cda7cc4",
   "metadata": {
    "id": "6cda7cc4"
   },
   "outputs": [],
   "source": [
    "def draw_bounding_box_on_image(image,\n",
    "                               ymin,\n",
    "                               xmin,\n",
    "                               ymax,\n",
    "                               xmax,\n",
    "                               color,\n",
    "                               font,\n",
    "                               thickness=4,\n",
    "                               display_str_list=()):\n",
    "  \"\"\"Adds a bounding box to an image.\"\"\"\n",
    "  draw = ImageDraw.Draw(image)\n",
    "  im_width, im_height = image.size\n",
    "  (left, right, top, bottom) = (xmin * im_width, xmax * im_width,\n",
    "                                ymin * im_height, ymax * im_height)\n",
    "  draw.line([(left, top), (left, bottom), (right, bottom), (right, top),\n",
    "             (left, top)],\n",
    "            width=thickness,\n",
    "            fill=color)\n",
    "\n",
    "  # If the total height of the display strings added to the top of the bounding\n",
    "  # box exceeds the top of the image, stack the strings below the bounding box\n",
    "  # instead of above.\n",
    "  display_str_heights = [font.getsize(ds)[1] for ds in display_str_list]\n",
    "  # Each display_str has a top and bottom margin of 0.05x.\n",
    "  total_display_str_height = (1 + 2 * 0.05) * sum(display_str_heights)\n",
    "\n",
    "  if top > total_display_str_height:\n",
    "    text_bottom = top\n",
    "  else:\n",
    "    text_bottom = top + total_display_str_height\n",
    "  # Reverse list and print from bottom to top.\n",
    "  for display_str in display_str_list[::-1]:\n",
    "    text_width, text_height = font.getsize(display_str)\n",
    "    margin = np.ceil(0.05 * text_height)\n",
    "    draw.rectangle([(left, text_bottom - text_height - 2 * margin),\n",
    "                    (left + text_width, text_bottom)],\n",
    "                   fill=color)\n",
    "    draw.text((left + margin, text_bottom - text_height - margin),\n",
    "              display_str,\n",
    "              fill=\"black\",\n",
    "              font=font)\n",
    "    text_bottom -= text_height - 2 * margin\n",
    "\n",
    "\n",
    "def draw_boxes(image, boxes, class_names, scores, max_boxes=10, min_score=0.1):\n",
    "  \"\"\"Overlay labeled boxes on an image with formatted scores and label names.\"\"\"\n",
    "  colors = list(ImageColor.colormap.values())\n",
    "\n",
    "  try:\n",
    "    font = ImageFont.truetype(\"/usr/share/fonts/truetype/liberation/LiberationSansNarrow-Regular.ttf\",\n",
    "                              25)\n",
    "  except IOError:\n",
    "    print(\"Font not found, using default font.\")\n",
    "    font = ImageFont.load_default()\n",
    "\n",
    "  for i in range(min(boxes.shape[0], max_boxes)):\n",
    "    if scores[i] >= min_score:\n",
    "      ymin, xmin, ymax, xmax = tuple(boxes[i])\n",
    "      display_str = \"{}: {}%\".format(class_names[i].decode(\"ascii\"),\n",
    "                                     int(100 * scores[i]))\n",
    "      color = colors[hash(class_names[i]) % len(colors)]\n",
    "      image_pil = Image.fromarray(np.uint8(image)).convert(\"RGB\")\n",
    "      draw_bounding_box_on_image(\n",
    "          image_pil,\n",
    "          ymin,\n",
    "          xmin,\n",
    "          ymax,\n",
    "          xmax,\n",
    "          color,\n",
    "          font,\n",
    "          display_str_list=[display_str])\n",
    "      np.copyto(image, np.array(image_pil))\n",
    "  return image"
   ]
  },
  {
   "cell_type": "code",
   "execution_count": null,
   "id": "c2f21e1e",
   "metadata": {
    "id": "c2f21e1e"
   },
   "outputs": [],
   "source": [
    "def display_image(image):\n",
    "  #fig = plt.figure(figsize=(20, 30))\n",
    "  #plt.grid(False)\n",
    "  #plt.imshow(image)\n",
    "  ds(image)\n",
    "\n",
    "def load_image(url, new_width, new_height,display=False):\n",
    "  if display:\n",
    "    display_image(Image.open(url))\n",
    "  return url"
   ]
  },
  {
   "cell_type": "code",
   "execution_count": null,
   "id": "81e337a4",
   "metadata": {
    "id": "81e337a4"
   },
   "outputs": [],
   "source": [
    "def download_and_resize_image(url, new_width, new_height,display=False):\n",
    "  _, filename = tempfile.mkstemp(suffix=\".jpg\")\n",
    "  #response = urlopen(url)\n",
    "  #image_data = response.read()\n",
    "  #image_data = BytesIO(image_data)\n",
    "  image_data = url\n",
    "  new_width1=int(new_width/3) \n",
    "  new_height1=int(new_height/3) \n",
    "  pil_image = Image.open(image_data)\n",
    "  pil_image = ImageOps.fit(pil_image,(new_width1,new_height1), Image.ANTIALIAS)\n",
    "  pil_image_rgb = pil_image.convert(\"RGB\")\n",
    "  pil_image_rgb.save(filename, format=\"JPEG\", quality=100)\n",
    "  print(\"Image downloaded to %s.\" % filename)\n",
    "  if display:\n",
    "    display_image(pil_image)\n",
    "  return filename"
   ]
  },
  {
   "cell_type": "code",
   "execution_count": null,
   "id": "1UUonfuqmiIq",
   "metadata": {
    "id": "1UUonfuqmiIq"
   },
   "outputs": [],
   "source": [
    "my_imgs_now=[]\n",
    "dirPath = os.walk(path)\n",
    "img_dir_path=list(dirPath)[0][2]\n",
    "for i in img_dir_path:\n",
    "    if(i.split('.')[-1]==\"jpg\"):\n",
    "        my_imgs_now.append(i)\n",
    "#list(enumerate(dirPath))[0]\n",
    "\n",
    "def get_correct_url(base_url,part_url):\n",
    "  if(part_url.split('/')[0].find('http')==-1):\n",
    "    if(part_url.split('/')[0]==''):\n",
    "      if(part_url.split('/')[0]==''):\n",
    "        if(part_url.split('/')[1]==''):\n",
    "          if(part_url.split('/')[2]==base_url.split('/')[2]):\n",
    "            return \"http:\"+part_url\n",
    "          else:\n",
    "            pass  \n",
    "        else:\n",
    "          if(part_url.split('/')[1]==base_url.split('/')[2]):\n",
    "            return \"http:/\"+part_url\n",
    "          else:\n",
    "            return \"http://\"+base_url.split(\"/\")[2]+part_url \n",
    "      else:  \n",
    "        return \"http://\"+base_url.split(\"/\")[2]+\"/\"+part_url \n",
    "    else:\n",
    "      return \"http://\"+base_url.split(\"/\")[2]+\"/\"+part_url       \n",
    "\n",
    "  else:\n",
    "    return part_url\n",
    "\n",
    "\n",
    "\n",
    "def png_to_jpg(myImgName):\n",
    "  im = Image.open( path+mypath )\n",
    "  rgb_im = im.convert('RGB')\n",
    "  rgb_im.save(path+myImgName+\".jpg\")\n",
    "\n",
    "def my_save_img():\n",
    "  global my_imgs_now\n",
    "  def my_save_url_img(my_img_url): \n",
    "    headers = {\"User-Agent\":\"Mozilla/5.0 (Windows NT 10.0; Win64; x64) AppleWebKit/537.36 (KHTML, like Gecko) Chrome/67.0.3396.99 Safari/537.36\"}\n",
    "    r = requests.get(my_img_url,headers=headers, stream=True)\n",
    "    if r.status_code == 200:\n",
    "        with open(str((path+my_img_url.split('/')[-1].split('?')[0])), 'wb') as f:\n",
    "            r.raw.decode_content = True\n",
    "            shutil.copyfileobj(r.raw, f)\n",
    "\n",
    "  url_01=input(\"請輸入圖片網址：\")\n",
    "  url_01_type=url_01.split('/')[-1].split('.')[-1].split('?')[0]\n",
    "  \n",
    "  if(url_01_type=='jpg'):\n",
    "    my_save_url_img(url_01)\n",
    "    my_imgs_now.append(url_01.split('/')[-1].split('?')[0])\n",
    "  \n",
    "  elif(url_01_type=='png'):\n",
    "    my_save_url_img(url_01)\n",
    "    my_imgs_now.append(url_01.split('/')[-1].split('?')[0]+\".jpg\")\n",
    "    png_to_jpg(url_01.split('/')[-1].split('?')[0])\n",
    "\n",
    "  else:\n",
    "    try:\n",
    "      #response.status_code,response.content,response.text\n",
    "      headers = {\"User-Agent\":\"Mozilla/5.0 (Windows NT 10.0; Win64; x64) AppleWebKit/537.36 (KHTML, like Gecko) Chrome/67.0.3396.99 Safari/537.36\"}\n",
    "      my_response = requests.get(url_01,headers=headers)\n",
    "      my_content = my_response.content.decode()\n",
    "      my_html = etree.HTML(my_content)\n",
    "      my_imgs = my_html.xpath('.//img/@src')\n",
    "      print(my_imgs,\"\\n\")\n",
    "      for i in my_imgs:\n",
    "        try:\n",
    "          if(i.split('/')[-1].split('.')[-1].split('?')[0]=='png'):\n",
    "            #change this line\n",
    "            my_save_url_img(get_correct_url(url_01,i))\n",
    "            my_imgs_now.append(i.split('/')[-1].split('?')[0]+\".jpg\")\n",
    "            png_to_jpg(i.split('/')[-1].split('?')[0])\n",
    "          elif(i.split('/')[-1].split('.')[-1].split('?')[0]=='jpg'):\n",
    "            #change this line\n",
    "            my_save_url_img(get_correct_url(url_01,i))\n",
    "            my_imgs_now.append(i.split('/')[-1].split('?')[0])    \n",
    "        except:\n",
    "          pass\n",
    "    except:\n",
    "      pass  \n",
    "\n",
    "\n",
    "  if(len(my_imgs_now)==0  or url_01==''):\n",
    "    print('圖片網址設定失敗，使用預設圖片')\n",
    "    url_01=\"https://64.media.tumblr.com/464a8a1770ac6b2c09c80232911673b7/b6713c87a0ba23de-b6/s1280x1920/0306a7f325e1c10e768a26ac2e1ea805ad3211d5.jpg\"\n",
    "    my_save_url_img(url_01)\n",
    "    my_imgs_now.append(url_01.split('/')[-1].split('?')[0])  \n",
    "  else:  \n",
    "    print('圖片網址設定成功')\n",
    "\n",
    "def get_image_size(my_img):\n",
    "  im = Image.open(my_img)\n",
    "  return im.size\n",
    "      "
   ]
  },
  {
   "cell_type": "code",
   "execution_count": null,
   "id": "ihCDrXLGoUVp",
   "metadata": {
    "colab": {
     "base_uri": "https://localhost:8080/"
    },
    "id": "ihCDrXLGoUVp",
    "outputId": "0d73e1b8-62e9-4531-aa36-c5941dce16af"
   },
   "outputs": [],
   "source": [
    "my_save_img()\n",
    "\n",
    "remove_img=list(enumerate(my_imgs_now[0:]))\n",
    "for i in remove_img:\n",
    "    img_repeat=i[1]\n",
    "    for ii in remove_img[i[0]+1:]:\n",
    "        if(img_repeat==ii[1]):\n",
    "            my_imgs_now.remove(img_repeat) \n",
    "            break\n",
    "            \n",
    "print(my_imgs_now)"
   ]
  },
  {
   "cell_type": "code",
   "execution_count": null,
   "id": "4ff52af2",
   "metadata": {
    "colab": {
     "base_uri": "https://localhost:8080/"
    },
    "id": "4ff52af2",
    "outputId": "42038f6c-712c-4d02-f527-c7bcd42a26bb"
   },
   "outputs": [],
   "source": [
    "module_handle = \"https://tfhub.dev/google/faster_rcnn/openimages_v4/inception_resnet_v2/1\"\n",
    "\n",
    "detector = hub.load(module_handle)"
   ]
  },
  {
   "cell_type": "code",
   "execution_count": null,
   "id": "lm7D7HajqXBR",
   "metadata": {
    "id": "lm7D7HajqXBR"
   },
   "outputs": [],
   "source": [
    "detector01=detector.signatures[\"default\"]"
   ]
  },
  {
   "cell_type": "code",
   "execution_count": null,
   "id": "35ea946e",
   "metadata": {
    "id": "35ea946e"
   },
   "outputs": [],
   "source": [
    "def load_img(path):\n",
    "  img = tf.io.read_file(path)\n",
    "  img = tf.image.decode_jpeg(img, channels=3)\n",
    "  return img"
   ]
  },
  {
   "cell_type": "code",
   "execution_count": null,
   "id": "af7da20d",
   "metadata": {
    "id": "af7da20d"
   },
   "outputs": [],
   "source": [
    "def run_detector(detector, path): \n",
    "  img = load_img(path)\n",
    "\n",
    "  converted_img  = tf.image.convert_image_dtype(img, tf.float32)[tf.newaxis, ...]\n",
    "  start_time = time.time()\n",
    "  result = detector(converted_img)\n",
    "  end_time = time.time()\n",
    "\n",
    "  result = {key:value.numpy() for key,value in result.items()}\n",
    "\n",
    "  print(\"Found %d objects.\" % len(result[\"detection_scores\"]))\n",
    "  print(\"Inference time: \", end_time-start_time)\n",
    "\n",
    "  image_with_boxes = draw_boxes(\n",
    "      img.numpy(), result[\"detection_boxes\"],\n",
    "      result[\"detection_class_entities\"], result[\"detection_scores\"])\n",
    "\n",
    "  display_image(Image.fromarray(image_with_boxes))"
   ]
  },
  {
   "cell_type": "code",
   "execution_count": null,
   "id": "5570f906",
   "metadata": {
    "colab": {
     "base_uri": "https://localhost:8080/",
     "height": 1000
    },
    "id": "5570f906",
    "outputId": "9246aa46-c3e8-4b82-d064-717f6287650a"
   },
   "outputs": [],
   "source": [
    "for i in my_imgs_now:\n",
    "  print(i)\n",
    "  run_detector(detector01,path+i)"
   ]
  },
  {
   "cell_type": "code",
   "execution_count": null,
   "id": "0248116f",
   "metadata": {
    "id": "0248116f"
   },
   "outputs": [],
   "source": []
  }
 ],
 "metadata": {
  "colab": {
   "collapsed_sections": [],
   "name": "Tensorflow_V2_API_Complete.ipynb",
   "provenance": []
  },
  "kernelspec": {
   "display_name": "Python 3 (ipykernel)",
   "language": "python",
   "name": "python3"
  },
  "language_info": {
   "codemirror_mode": {
    "name": "ipython",
    "version": 3
   },
   "file_extension": ".py",
   "mimetype": "text/x-python",
   "name": "python",
   "nbconvert_exporter": "python",
   "pygments_lexer": "ipython3",
   "version": "3.9.7"
  }
 },
 "nbformat": 4,
 "nbformat_minor": 5
}
