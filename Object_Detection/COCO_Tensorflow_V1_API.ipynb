{
 "cells": [
  {
   "cell_type": "markdown",
   "metadata": {},
   "source": [
    "**這個檔案必須要在Google Colab上執行，否則一些檔案路徑要改。還有一些Linux的指令，如果是在Windows執行要更改。Windows安裝Tensorflow建議使用Anaconda安裝，其中在Search完後可這樣裝conda install  package_name = version = build_string裡面的build_string前三位是python版本要注意。Anaconda安裝GPU版本會自己解決環境問題，幫你自動裝好Cuda Tookit、Cudnn。然後記得要windows long path support enabled。**\n",
    "\n",
    "**用Windows安裝pycocotools要先下載visual studio build tools**"
   ]
  },
  {
   "cell_type": "code",
   "execution_count": null,
   "metadata": {
    "colab": {
     "base_uri": "https://localhost:8080/",
     "height": 87
    },
    "executionInfo": {
     "elapsed": 458,
     "status": "ok",
     "timestamp": 1637645336790,
     "user": {
      "displayName": "謝咏辰",
      "photoUrl": "https://lh3.googleusercontent.com/a-/AOh14GhW-IvzLlm2yu2bRv1EfCrAmEX3fUcSPvIhN1D1TQ=s64",
      "userId": "04377572846588709744"
     },
     "user_tz": -480
    },
    "id": "QTqpQdcH_-nI",
    "outputId": "d9c9bbad-714f-4296-ea22-912b574364e7"
   },
   "outputs": [],
   "source": [
    "\"\"\"\n",
    "Tensorflow官方網站:\n",
    "https://www.tensorflow.org/\n",
    "\n",
    "原始教學程式碼來源:\n",
    "https://github.com/tensorflow/models/blob/master/research/object_detection/colab_tutorials/object_detection_tutorial.ipynb\n",
    "https://blog.gtwang.org/programming/tensorflow-object-detection-api-tutorial/\n",
    "https://tensorflow-object-detection-api-tutorial.readthedocs.io/en/latest/auto_examples/plot_object_detection_saved_model.html#sphx-glr-auto-examples-plot-object-detection-saved-model-py\n",
    "https://ithelp.ithome.com.tw/m/articles/10238231\n",
    "\n",
    "models source:\n",
    "https://cocodataset.org/#home\n",
    "https://github.com/tensorflow/models/blob/master/research/object_detection/g3doc/tf2_detection_zoo.md\n",
    "\n",
    "這個模組能分辨的物體:\n",
    "https://cocodataset.org/#explore\n",
    "\n",
    "\"\"\""
   ]
  },
  {
   "cell_type": "code",
   "execution_count": null,
   "metadata": {
    "colab": {
     "base_uri": "https://localhost:8080/"
    },
    "executionInfo": {
     "elapsed": 7,
     "status": "ok",
     "timestamp": 1637645336790,
     "user": {
      "displayName": "謝咏辰",
      "photoUrl": "https://lh3.googleusercontent.com/a-/AOh14GhW-IvzLlm2yu2bRv1EfCrAmEX3fUcSPvIhN1D1TQ=s64",
      "userId": "04377572846588709744"
     },
     "user_tz": -480
    },
    "id": "xpjElAMTnEiL",
    "outputId": "35410bd5-73b9-477c-baba-5ac1be55aad9"
   },
   "outputs": [],
   "source": [
    "import platform\n",
    "print(platform.system(),\"\\n\",platform.uname())"
   ]
  },
  {
   "cell_type": "code",
   "execution_count": null,
   "metadata": {
    "colab": {
     "base_uri": "https://localhost:8080/"
    },
    "executionInfo": {
     "elapsed": 4577,
     "status": "ok",
     "timestamp": 1637645341363,
     "user": {
      "displayName": "謝咏辰",
      "photoUrl": "https://lh3.googleusercontent.com/a-/AOh14GhW-IvzLlm2yu2bRv1EfCrAmEX3fUcSPvIhN1D1TQ=s64",
      "userId": "04377572846588709744"
     },
     "user_tz": -480
    },
    "id": "7t8U-axsCf-L",
    "outputId": "59fc9445-b682-4809-d349-21d99fd838d8"
   },
   "outputs": [],
   "source": [
    "!pip install tensorflow\n",
    "!pip install matplotlib\n",
    "!pip install tf_slim\n",
    "!pip install pycocotools\n",
    "!pip install pillow\n",
    "!pip install requests\n",
    "!pip install lxml"
   ]
  },
  {
   "cell_type": "code",
   "execution_count": null,
   "metadata": {
    "colab": {
     "base_uri": "https://localhost:8080/"
    },
    "executionInfo": {
     "elapsed": 23914,
     "status": "ok",
     "timestamp": 1637645384957,
     "user": {
      "displayName": "謝咏辰",
      "photoUrl": "https://lh3.googleusercontent.com/a-/AOh14GhW-IvzLlm2yu2bRv1EfCrAmEX3fUcSPvIhN1D1TQ=s64",
      "userId": "04377572846588709744"
     },
     "user_tz": -480
    },
    "id": "BzF3CEiKDo4i",
    "outputId": "44f9df7c-8483-41e7-8897-5624074838ba"
   },
   "outputs": [],
   "source": [
    "!git clone https://github.com/tensorflow/models.git"
   ]
  },
  {
   "cell_type": "code",
   "execution_count": null,
   "metadata": {
    "colab": {
     "base_uri": "https://localhost:8080/"
    },
    "executionInfo": {
     "elapsed": 6,
     "status": "ok",
     "timestamp": 1637645384957,
     "user": {
      "displayName": "謝咏辰",
      "photoUrl": "https://lh3.googleusercontent.com/a-/AOh14GhW-IvzLlm2yu2bRv1EfCrAmEX3fUcSPvIhN1D1TQ=s64",
      "userId": "04377572846588709744"
     },
     "user_tz": -480
    },
    "id": "OGok73_fEsb8",
    "outputId": "accd1f89-2da4-44f5-d9d7-b29695e9f96b"
   },
   "outputs": [],
   "source": [
    "cd models/research"
   ]
  },
  {
   "cell_type": "code",
   "execution_count": null,
   "metadata": {
    "colab": {
     "base_uri": "https://localhost:8080/"
    },
    "executionInfo": {
     "elapsed": 2325,
     "status": "ok",
     "timestamp": 1637645387280,
     "user": {
      "displayName": "謝咏辰",
      "photoUrl": "https://lh3.googleusercontent.com/a-/AOh14GhW-IvzLlm2yu2bRv1EfCrAmEX3fUcSPvIhN1D1TQ=s64",
      "userId": "04377572846588709744"
     },
     "user_tz": -480
    },
    "id": "W7nLmFsvFDcm",
    "outputId": "f9d25695-6c3f-4eee-b659-6e1cdfbc37a5"
   },
   "outputs": [],
   "source": [
    "!apt install -y protobuf-compiler"
   ]
  },
  {
   "cell_type": "code",
   "execution_count": null,
   "metadata": {
    "executionInfo": {
     "elapsed": 13,
     "status": "ok",
     "timestamp": 1637645387281,
     "user": {
      "displayName": "謝咏辰",
      "photoUrl": "https://lh3.googleusercontent.com/a-/AOh14GhW-IvzLlm2yu2bRv1EfCrAmEX3fUcSPvIhN1D1TQ=s64",
      "userId": "04377572846588709744"
     },
     "user_tz": -480
    },
    "id": "dP5Bsj98Ey9C"
   },
   "outputs": [],
   "source": [
    "!protoc object_detection/protos/*.proto --python_out=."
   ]
  },
  {
   "cell_type": "code",
   "execution_count": null,
   "metadata": {
    "executionInfo": {
     "elapsed": 492,
     "status": "ok",
     "timestamp": 1637645387763,
     "user": {
      "displayName": "謝咏辰",
      "photoUrl": "https://lh3.googleusercontent.com/a-/AOh14GhW-IvzLlm2yu2bRv1EfCrAmEX3fUcSPvIhN1D1TQ=s64",
      "userId": "04377572846588709744"
     },
     "user_tz": -480
    },
    "id": "eskluO0_G63W"
   },
   "outputs": [],
   "source": [
    "!export PYTHONPATH=$PYTHONPATH:`pwd`:`pwd`/slim"
   ]
  },
  {
   "cell_type": "code",
   "execution_count": null,
   "metadata": {
    "executionInfo": {
     "elapsed": 3054,
     "status": "ok",
     "timestamp": 1637645390816,
     "user": {
      "displayName": "謝咏辰",
      "photoUrl": "https://lh3.googleusercontent.com/a-/AOh14GhW-IvzLlm2yu2bRv1EfCrAmEX3fUcSPvIhN1D1TQ=s64",
      "userId": "04377572846588709744"
     },
     "user_tz": -480
    },
    "id": "UDgOJwGs7V8t"
   },
   "outputs": [],
   "source": [
    "import numpy as np\n",
    "import os\n",
    "import six.moves.urllib as urllib\n",
    "import sys\n",
    "import tarfile\n",
    "import tensorflow as tf\n",
    "import zipfile\n",
    "import pathlib\n",
    "import requests\n",
    "import shutil\n",
    "from lxml import etree\n",
    "from collections import defaultdict\n",
    "from io import StringIO\n",
    "from matplotlib import pyplot as plt\n",
    "from PIL import Image\n",
    "from IPython.display import display\n",
    "from tensorflow.keras import backend\n",
    "from object_detection.utils import ops as utils_ops\n",
    "from object_detection.utils import label_map_util\n",
    "from object_detection.utils import visualization_utils as vis_util"
   ]
  },
  {
   "cell_type": "code",
   "execution_count": null,
   "metadata": {
    "colab": {
     "base_uri": "https://localhost:8080/"
    },
    "executionInfo": {
     "elapsed": 6,
     "status": "ok",
     "timestamp": 1637645390816,
     "user": {
      "displayName": "謝咏辰",
      "photoUrl": "https://lh3.googleusercontent.com/a-/AOh14GhW-IvzLlm2yu2bRv1EfCrAmEX3fUcSPvIhN1D1TQ=s64",
      "userId": "04377572846588709744"
     },
     "user_tz": -480
    },
    "id": "4jd9qsBHpVSn",
    "outputId": "4413f44d-53b2-404f-fc0d-4d421ec0e4ae"
   },
   "outputs": [],
   "source": [
    "tf.config.experimental.list_physical_devices()"
   ]
  },
  {
   "cell_type": "code",
   "execution_count": null,
   "metadata": {
    "executionInfo": {
     "elapsed": 5,
     "status": "ok",
     "timestamp": 1637645390817,
     "user": {
      "displayName": "謝咏辰",
      "photoUrl": "https://lh3.googleusercontent.com/a-/AOh14GhW-IvzLlm2yu2bRv1EfCrAmEX3fUcSPvIhN1D1TQ=s64",
      "userId": "04377572846588709744"
     },
     "user_tz": -480
    },
    "id": "wReAE_Kd7v2r"
   },
   "outputs": [],
   "source": [
    "# patch tf1 into `utils.ops`\n",
    "utils_ops.tf = tf.compat.v1\n",
    "\n",
    "# Patch the location of gfile\n",
    "tf.gfile = tf.io.gfile"
   ]
  },
  {
   "cell_type": "code",
   "execution_count": null,
   "metadata": {
    "executionInfo": {
     "elapsed": 5,
     "status": "ok",
     "timestamp": 1637645390817,
     "user": {
      "displayName": "謝咏辰",
      "photoUrl": "https://lh3.googleusercontent.com/a-/AOh14GhW-IvzLlm2yu2bRv1EfCrAmEX3fUcSPvIhN1D1TQ=s64",
      "userId": "04377572846588709744"
     },
     "user_tz": -480
    },
    "id": "TNQUu4608U0M"
   },
   "outputs": [],
   "source": [
    "def load_model(model_name):\n",
    "  base_url = 'http://download.tensorflow.org/models/object_detection/tf2/20200711/'\n",
    "  model_file = model_name + '.tar.gz'\n",
    "  model_dir = tf.keras.utils.get_file(\n",
    "    fname=model_name, \n",
    "    origin=base_url + model_file,\n",
    "    untar=True)\n",
    "\n",
    "  model_dir = pathlib.Path(model_dir)/\"saved_model\"\n",
    "\n",
    "  model = tf.saved_model.load(str(model_dir))\n",
    "\n",
    "  return model"
   ]
  },
  {
   "cell_type": "code",
   "execution_count": null,
   "metadata": {
    "executionInfo": {
     "elapsed": 5,
     "status": "ok",
     "timestamp": 1637645390817,
     "user": {
      "displayName": "謝咏辰",
      "photoUrl": "https://lh3.googleusercontent.com/a-/AOh14GhW-IvzLlm2yu2bRv1EfCrAmEX3fUcSPvIhN1D1TQ=s64",
      "userId": "04377572846588709744"
     },
     "user_tz": -480
    },
    "id": "n5TL9Isg8yca"
   },
   "outputs": [],
   "source": [
    "# List of the strings that is used to add correct label for each box.\n",
    "PATH_TO_LABELS = '/content/models/research/object_detection/data/mscoco_label_map.pbtxt'\n",
    "category_index = label_map_util.create_category_index_from_labelmap(PATH_TO_LABELS, use_display_name=True)"
   ]
  },
  {
   "cell_type": "code",
   "execution_count": null,
   "metadata": {
    "colab": {
     "base_uri": "https://localhost:8080/"
    },
    "executionInfo": {
     "elapsed": 5,
     "status": "ok",
     "timestamp": 1637645390817,
     "user": {
      "displayName": "謝咏辰",
      "photoUrl": "https://lh3.googleusercontent.com/a-/AOh14GhW-IvzLlm2yu2bRv1EfCrAmEX3fUcSPvIhN1D1TQ=s64",
      "userId": "04377572846588709744"
     },
     "user_tz": -480
    },
    "id": "q2iwcpc7-T4r",
    "outputId": "4231a0ae-73c8-4e9e-e12c-0738e3610c6d"
   },
   "outputs": [],
   "source": [
    "PATH_TO_TEST_IMAGES_DIR = pathlib.Path('/content/models/research/object_detection/test_images')\n",
    "TEST_IMAGE_PATHS = sorted(list(PATH_TO_TEST_IMAGES_DIR.glob(\"*.jpg\")))\n",
    "TEST_IMAGE_PATHS"
   ]
  },
  {
   "cell_type": "code",
   "execution_count": null,
   "metadata": {
    "colab": {
     "base_uri": "https://localhost:8080/"
    },
    "executionInfo": {
     "elapsed": 97815,
     "status": "ok",
     "timestamp": 1637645488628,
     "user": {
      "displayName": "謝咏辰",
      "photoUrl": "https://lh3.googleusercontent.com/a-/AOh14GhW-IvzLlm2yu2bRv1EfCrAmEX3fUcSPvIhN1D1TQ=s64",
      "userId": "04377572846588709744"
     },
     "user_tz": -480
    },
    "id": "_-UWHuu6-9NK",
    "outputId": "1395596f-bcd0-441f-c099-a8741076f08f"
   },
   "outputs": [],
   "source": [
    "#model_name = 'ssd_mobilenet_v1_coco_2017_11_17'\n",
    "model_name=\"efficientdet_d6_coco17_tpu-32\"\n",
    "detection_model = load_model(model_name)"
   ]
  },
  {
   "cell_type": "code",
   "execution_count": null,
   "metadata": {
    "executionInfo": {
     "elapsed": 41,
     "status": "ok",
     "timestamp": 1637645488628,
     "user": {
      "displayName": "謝咏辰",
      "photoUrl": "https://lh3.googleusercontent.com/a-/AOh14GhW-IvzLlm2yu2bRv1EfCrAmEX3fUcSPvIhN1D1TQ=s64",
      "userId": "04377572846588709744"
     },
     "user_tz": -480
    },
    "id": "wgB6nywC_aYj"
   },
   "outputs": [],
   "source": [
    "def run_inference_for_single_image(model, image):\n",
    "  image = np.asarray(image)\n",
    "  # The input needs to be a tensor, convert it using `tf.convert_to_tensor`.\n",
    "  input_tensor = tf.convert_to_tensor(image)\n",
    "  # The model expects a batch of images, so add an axis with `tf.newaxis`.\n",
    "  input_tensor = input_tensor[tf.newaxis,...]\n",
    "\n",
    "  # Run inference\n",
    "  model_fn = model.signatures['serving_default']\n",
    "  output_dict = model_fn(input_tensor)\n",
    "\n",
    "  # All outputs are batches tensors.\n",
    "  # Convert to numpy arrays, and take index [0] to remove the batch dimension.\n",
    "  # We're only interested in the first num_detections.\n",
    "  num_detections = int(output_dict.pop('num_detections'))\n",
    "  output_dict = {key:value[0, :num_detections].numpy() \n",
    "                 for key,value in output_dict.items()}\n",
    "  output_dict['num_detections'] = num_detections\n",
    "\n",
    "  # detection_classes should be ints.\n",
    "  output_dict['detection_classes'] = output_dict['detection_classes'].astype(np.int64)\n",
    "   \n",
    "  # Handle models with masks:\n",
    "  if 'detection_masks' in output_dict:\n",
    "    # Reframe the the bbox mask to the image size.\n",
    "    detection_masks_reframed = utils_ops.reframe_box_masks_to_image_masks(\n",
    "              output_dict['detection_masks'], output_dict['detection_boxes'],\n",
    "               image.shape[0], image.shape[1])      \n",
    "    detection_masks_reframed = tf.cast(detection_masks_reframed > 0.5,\n",
    "                                       tf.uint8)\n",
    "    output_dict['detection_masks_reframed'] = detection_masks_reframed.numpy()\n",
    "    \n",
    "  return output_dict"
   ]
  },
  {
   "cell_type": "code",
   "execution_count": null,
   "metadata": {
    "colab": {
     "base_uri": "https://localhost:8080/"
    },
    "executionInfo": {
     "elapsed": 34,
     "status": "ok",
     "timestamp": 1637645488629,
     "user": {
      "displayName": "謝咏辰",
      "photoUrl": "https://lh3.googleusercontent.com/a-/AOh14GhW-IvzLlm2yu2bRv1EfCrAmEX3fUcSPvIhN1D1TQ=s64",
      "userId": "04377572846588709744"
     },
     "user_tz": -480
    },
    "id": "4Axpv0U6_Hv7",
    "outputId": "6b95c5c6-14fe-401a-8be9-614bcdb358d0"
   },
   "outputs": [],
   "source": [
    "print(detection_model.signatures['serving_default'].inputs)"
   ]
  },
  {
   "cell_type": "code",
   "execution_count": null,
   "metadata": {
    "colab": {
     "base_uri": "https://localhost:8080/"
    },
    "executionInfo": {
     "elapsed": 26,
     "status": "ok",
     "timestamp": 1637645488629,
     "user": {
      "displayName": "謝咏辰",
      "photoUrl": "https://lh3.googleusercontent.com/a-/AOh14GhW-IvzLlm2yu2bRv1EfCrAmEX3fUcSPvIhN1D1TQ=s64",
      "userId": "04377572846588709744"
     },
     "user_tz": -480
    },
    "id": "UvlKvSYR_P97",
    "outputId": "159a4d26-9320-4d0c-9337-258ff127b346"
   },
   "outputs": [],
   "source": [
    "detection_model.signatures['serving_default'].output_dtypes"
   ]
  },
  {
   "cell_type": "code",
   "execution_count": null,
   "metadata": {
    "colab": {
     "base_uri": "https://localhost:8080/"
    },
    "executionInfo": {
     "elapsed": 12,
     "status": "ok",
     "timestamp": 1637645488629,
     "user": {
      "displayName": "謝咏辰",
      "photoUrl": "https://lh3.googleusercontent.com/a-/AOh14GhW-IvzLlm2yu2bRv1EfCrAmEX3fUcSPvIhN1D1TQ=s64",
      "userId": "04377572846588709744"
     },
     "user_tz": -480
    },
    "id": "prcmdkXs_TDT",
    "outputId": "11e8a0df-18f7-4957-b4f8-df8a245eafcd"
   },
   "outputs": [],
   "source": [
    "detection_model.signatures['serving_default'].output_shapes"
   ]
  },
  {
   "cell_type": "code",
   "execution_count": null,
   "metadata": {
    "executionInfo": {
     "elapsed": 10,
     "status": "ok",
     "timestamp": 1637645488629,
     "user": {
      "displayName": "謝咏辰",
      "photoUrl": "https://lh3.googleusercontent.com/a-/AOh14GhW-IvzLlm2yu2bRv1EfCrAmEX3fUcSPvIhN1D1TQ=s64",
      "userId": "04377572846588709744"
     },
     "user_tz": -480
    },
    "id": "5kfGTNnf_deT"
   },
   "outputs": [],
   "source": [
    "def show_inference(model, image_path):\n",
    "  # the array based representation of the image will be used later in order to prepare the\n",
    "  # result image with boxes and labels on it.\n",
    "  image_np = np.array(Image.open(image_path))\n",
    "  # Actual detection.\n",
    "  output_dict = run_inference_for_single_image(model, image_np)\n",
    "  # Visualization of the results of a detection.\n",
    "  vis_util.visualize_boxes_and_labels_on_image_array(\n",
    "      image_np,\n",
    "      output_dict['detection_boxes'],\n",
    "      output_dict['detection_classes'],\n",
    "      output_dict['detection_scores'],\n",
    "      category_index,\n",
    "      instance_masks=output_dict.get('detection_masks_reframed', None),\n",
    "      use_normalized_coordinates=True,\n",
    "      line_thickness=8)\n",
    "\n",
    "  display(Image.fromarray(image_np))"
   ]
  },
  {
   "cell_type": "code",
   "execution_count": null,
   "metadata": {
    "executionInfo": {
     "elapsed": 11,
     "status": "ok",
     "timestamp": 1637645488630,
     "user": {
      "displayName": "謝咏辰",
      "photoUrl": "https://lh3.googleusercontent.com/a-/AOh14GhW-IvzLlm2yu2bRv1EfCrAmEX3fUcSPvIhN1D1TQ=s64",
      "userId": "04377572846588709744"
     },
     "user_tz": -480
    },
    "id": "0YdX86Xac4SL"
   },
   "outputs": [],
   "source": [
    "def get_correct_url(base_url,part_url):\n",
    "  if(part_url.split('/')[0].find('http')==-1):\n",
    "    if(part_url.split('/')[0]==''):\n",
    "      if(part_url.split('/')[0]==''):\n",
    "        if(part_url.split('/')[1]==''):\n",
    "          if(part_url.split('/')[2]==base_url.split('/')[2]):\n",
    "            return \"http:\"+part_url\n",
    "          else:\n",
    "            pass  \n",
    "        else:\n",
    "          if(part_url.split('/')[1]==base_url.split('/')[2]):\n",
    "            return \"http:/\"+part_url\n",
    "          else:\n",
    "            return \"http://\"+base_url.split(\"/\")[2]+part_url \n",
    "      else:  \n",
    "        return \"http://\"+base_url.split(\"/\")[2]+\"/\"+part_url \n",
    "    else:\n",
    "      return \"http://\"+base_url.split(\"/\")[2]+\"/\"+part_url       \n",
    "\n",
    "  else:\n",
    "    return part_url"
   ]
  },
  {
   "cell_type": "code",
   "execution_count": null,
   "metadata": {
    "executionInfo": {
     "elapsed": 10,
     "status": "ok",
     "timestamp": 1637645488630,
     "user": {
      "displayName": "謝咏辰",
      "photoUrl": "https://lh3.googleusercontent.com/a-/AOh14GhW-IvzLlm2yu2bRv1EfCrAmEX3fUcSPvIhN1D1TQ=s64",
      "userId": "04377572846588709744"
     },
     "user_tz": -480
    },
    "id": "KirCAmlnxs0L"
   },
   "outputs": [],
   "source": [
    "my_imgs_now=[]\n",
    "\n",
    "def png_to_jpg(mypath):\n",
    "  im = Image.open(\"/content/\"+mypath)\n",
    "  rgb_im = im.convert('RGB')\n",
    "  rgb_im.save(\"/content/\"+mypath+\".jpg\")\n",
    "\n",
    "def my_save_img():\n",
    "  global my_imgs_now\n",
    "  def my_save_url_img(my_img_url): \n",
    "    headers = {\"User-Agent\":\"Mozilla/5.0 (Windows NT 10.0; Win64; x64) AppleWebKit/537.36 (KHTML, like Gecko) Chrome/67.0.3396.99 Safari/537.36\"}\n",
    "    r = requests.get(my_img_url,headers=headers, stream=True)\n",
    "    if r.status_code == 200:\n",
    "        with open(str((\"/content/\"+my_img_url.split('/')[-1].split('?')[0])), 'wb') as f:\n",
    "            r.raw.decode_content = True\n",
    "            shutil.copyfileobj(r.raw, f)\n",
    "\n",
    "  url_01=input(\"請輸入圖片網址：\")\n",
    "  url_01_type=url_01.split('/')[-1].split('.')[-1].split('?')[0]\n",
    "  my_imgs_now=[]\n",
    "  \n",
    "  if(url_01_type=='jpg'):\n",
    "    my_save_url_img(url_01)\n",
    "    my_imgs_now.append(url_01.split('/')[-1].split('?')[0])\n",
    "  \n",
    "  elif(url_01_type=='png'):\n",
    "    my_save_url_img(url_01)\n",
    "    my_imgs_now.append(url_01.split('/')[-1].split('?')[0]+\".jpg\")\n",
    "    png_to_jpg(url_01.split('/')[-1].split('?')[0])\n",
    "\n",
    "  else:\n",
    "    try:\n",
    "      #response.status_code,response.content,response.text\n",
    "      headers = {\"User-Agent\":\"Mozilla/5.0 (Windows NT 10.0; Win64; x64) AppleWebKit/537.36 (KHTML, like Gecko) Chrome/67.0.3396.99 Safari/537.36\"}\n",
    "      my_response = requests.get(url_01,headers=headers)\n",
    "      my_content = my_response.content.decode()\n",
    "      my_html = etree.HTML(my_content)\n",
    "      my_imgs = my_html.xpath('.//img/@src')\n",
    "      print(my_imgs,\"\\n\")\n",
    "      for i in my_imgs:\n",
    "        try:\n",
    "          if(i.split('/')[-1].split('.')[-1].split('?')[0]=='png'):\n",
    "            #change this line\n",
    "            my_save_url_img(get_correct_url(url_01,i))\n",
    "            my_imgs_now.append(i.split('/')[-1].split('?')[0]+\".jpg\")\n",
    "            png_to_jpg(i.split('/')[-1].split('?')[0])\n",
    "          elif(i.split('/')[-1].split('.')[-1].split('?')[0]=='jpg'):\n",
    "            #change this line\n",
    "            my_save_url_img(get_correct_url(url_01,i))\n",
    "            my_imgs_now.append(i.split('/')[-1].split('?')[0])    \n",
    "        except:\n",
    "          pass\n",
    "    except:\n",
    "      pass  \n",
    "\n",
    "\n",
    "  if(len(my_imgs_now)==0):\n",
    "    print('圖片網址設定失敗，使用預設圖片')\n",
    "    url_01=\"https://64.media.tumblr.com/464a8a1770ac6b2c09c80232911673b7/b6713c87a0ba23de-b6/s1280x1920/0306a7f325e1c10e768a26ac2e1ea805ad3211d5.jpg\"\n",
    "    my_save_url_img(url_01)\n",
    "    my_imgs_now.append(url_01.split('/')[-1].split('?')[0])  \n",
    "  else:  \n",
    "    print('圖片網址設定成功')"
   ]
  },
  {
   "cell_type": "code",
   "execution_count": null,
   "metadata": {
    "colab": {
     "base_uri": "https://localhost:8080/"
    },
    "executionInfo": {
     "elapsed": 10,
     "status": "ok",
     "timestamp": 1637645488630,
     "user": {
      "displayName": "謝咏辰",
      "photoUrl": "https://lh3.googleusercontent.com/a-/AOh14GhW-IvzLlm2yu2bRv1EfCrAmEX3fUcSPvIhN1D1TQ=s64",
      "userId": "04377572846588709744"
     },
     "user_tz": -480
    },
    "id": "ohyU0uC7cUc5",
    "outputId": "a9c82f24-eab2-4150-9341-96e8d5c4f8b0"
   },
   "outputs": [],
   "source": [
    "print(get_correct_url('http://pixiv.navirank.com/tag/%E6%BD%A4%E7%BE%BD%E3%82%8B%E3%81%97%E3%81%82/,part_url','img/896/89657023.jpg'))"
   ]
  },
  {
   "cell_type": "code",
   "execution_count": null,
   "metadata": {
    "colab": {
     "base_uri": "https://localhost:8080/"
    },
    "executionInfo": {
     "elapsed": 66025,
     "status": "ok",
     "timestamp": 1637645554649,
     "user": {
      "displayName": "謝咏辰",
      "photoUrl": "https://lh3.googleusercontent.com/a-/AOh14GhW-IvzLlm2yu2bRv1EfCrAmEX3fUcSPvIhN1D1TQ=s64",
      "userId": "04377572846588709744"
     },
     "user_tz": -480
    },
    "id": "X89jyQpr_mXT",
    "outputId": "65822d9d-af47-4c64-c101-aa13dc01bc77"
   },
   "outputs": [],
   "source": [
    "my_save_img()"
   ]
  },
  {
   "cell_type": "code",
   "execution_count": null,
   "metadata": {
    "colab": {
     "base_uri": "https://localhost:8080/"
    },
    "executionInfo": {
     "elapsed": 5,
     "status": "ok",
     "timestamp": 1637645554650,
     "user": {
      "displayName": "謝咏辰",
      "photoUrl": "https://lh3.googleusercontent.com/a-/AOh14GhW-IvzLlm2yu2bRv1EfCrAmEX3fUcSPvIhN1D1TQ=s64",
      "userId": "04377572846588709744"
     },
     "user_tz": -480
    },
    "id": "aEP1wZfA6VZR",
    "outputId": "1ab1d942-2452-463a-b6a2-e4f9ae40987e"
   },
   "outputs": [],
   "source": [
    "my_imgs_now"
   ]
  },
  {
   "cell_type": "code",
   "execution_count": null,
   "metadata": {
    "colab": {
     "base_uri": "https://localhost:8080/"
    },
    "executionInfo": {
     "elapsed": 4,
     "status": "ok",
     "timestamp": 1637645554650,
     "user": {
      "displayName": "謝咏辰",
      "photoUrl": "https://lh3.googleusercontent.com/a-/AOh14GhW-IvzLlm2yu2bRv1EfCrAmEX3fUcSPvIhN1D1TQ=s64",
      "userId": "04377572846588709744"
     },
     "user_tz": -480
    },
    "id": "bXeb3DNsmj49",
    "outputId": "51152d92-1e04-496f-dfcb-113f95b92b3a"
   },
   "outputs": [],
   "source": [
    "len(my_imgs_now)"
   ]
  },
  {
   "cell_type": "code",
   "execution_count": null,
   "metadata": {
    "colab": {
     "base_uri": "https://localhost:8080/",
     "height": 1000,
     "output_embedded_package_id": "1Tf2RL4sk1VvuaDopk2-RjeKMYY-hdKQQ"
    },
    "executionInfo": {
     "elapsed": 30424,
     "status": "ok",
     "timestamp": 1637645585071,
     "user": {
      "displayName": "謝咏辰",
      "photoUrl": "https://lh3.googleusercontent.com/a-/AOh14GhW-IvzLlm2yu2bRv1EfCrAmEX3fUcSPvIhN1D1TQ=s64",
      "userId": "04377572846588709744"
     },
     "user_tz": -480
    },
    "id": "QM5UFAAk_gR6",
    "outputId": "b4a09c89-879b-46ca-eb02-3965cdca57ad"
   },
   "outputs": [],
   "source": [
    "#for image_path in TEST_IMAGE_PATHS:\n",
    "#  show_inference(detection_model, image_path)\n",
    "\n",
    "backend.clear_session()\n",
    "\n",
    "for i in my_imgs_now:\n",
    "  show_inference(detection_model,(\"/content/\"+str(i)))"
   ]
  }
 ],
 "metadata": {
  "colab": {
   "authorship_tag": "ABX9TyNRtcAIsQ2VBU3m64zcMSG9",
   "collapsed_sections": [],
   "name": "Tensorflow_API.ipynb",
   "provenance": []
  },
  "kernelspec": {
   "display_name": "Python 3 (ipykernel)",
   "language": "python",
   "name": "python3"
  },
  "language_info": {
   "codemirror_mode": {
    "name": "ipython",
    "version": 3
   },
   "file_extension": ".py",
   "mimetype": "text/x-python",
   "name": "python",
   "nbconvert_exporter": "python",
   "pygments_lexer": "ipython3",
   "version": "3.9.7"
  }
 },
 "nbformat": 4,
 "nbformat_minor": 1
}
