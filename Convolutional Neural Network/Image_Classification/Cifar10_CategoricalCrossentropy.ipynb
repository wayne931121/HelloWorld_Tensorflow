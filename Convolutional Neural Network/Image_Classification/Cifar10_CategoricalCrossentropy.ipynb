{
 "cells": [
  {
   "cell_type": "markdown",
   "metadata": {
    "id": "GFLag2HxGO3n"
   },
   "source": [
    "**參考網站：**\n",
    "\n",
    "***https://www.tensorflow.org/tutorials/images/cnn***\n",
    "\n",
    "***https://www.tensorflow.org/tutorials/keras/save_and_load***\n"
   ]
  },
  {
   "cell_type": "code",
   "execution_count": null,
   "metadata": {
    "id": "sydJc0GzmbmQ"
   },
   "outputs": [],
   "source": [
    "import tensorflow as tf\n",
    "\n",
    "import cv2\n",
    "import os\n",
    "from tensorflow.keras import datasets, layers, models ,backend ,utils,callbacks\n",
    "import matplotlib.pyplot as plt\n",
    "from PIL import Image\n",
    "from PIL import ImageColor\n",
    "from PIL import ImageDraw\n",
    "from PIL import ImageFont\n",
    "from PIL import ImageOps\n",
    "from IPython.display import display as ds\n",
    "import time\n",
    "import numpy as np\n",
    "import tempfile\n",
    "import pathlib\n",
    "import requests\n",
    "import shutil\n",
    "from lxml import etree\n",
    "import ssl\n",
    "ssl._create_default_https_context = ssl._create_unverified_context\n",
    "\n",
    "path =  os.getcwd() \n",
    "\n",
    "if(not os.path.exists(path+r\"\\images\")):\n",
    "   os.mkdir(\"images\")\n",
    "\n",
    "path=path.replace(\"\\\\\", \"/\")\n",
    "\n",
    "path=path+\"/images/\"\n",
    "\n",
    "print( path )"
   ]
  },
  {
   "cell_type": "markdown",
   "metadata": {
    "id": "A19UdmCFw7ye"
   },
   "source": [
    "Start Cifar10 CNN Model Test"
   ]
  },
  {
   "cell_type": "code",
   "execution_count": null,
   "metadata": {
    "id": "9_n72sfQ2mNK"
   },
   "outputs": [],
   "source": [
    "cifar10_labels =['airplane', 'automobile', 'bird', 'cat', 'deer', 'dog', 'frog', 'horse', 'ship', 'truck']"
   ]
  },
  {
   "cell_type": "code",
   "execution_count": null,
   "metadata": {
    "colab": {
     "base_uri": "https://localhost:8080/"
    },
    "id": "5XqrGA8o-p3i",
    "outputId": "f6026509-a3f4-4fed-c792-68483f91fbd8"
   },
   "outputs": [],
   "source": [
    "print(\"Num GPUs Available: \", len(tf.config.list_physical_devices('GPU')))"
   ]
  },
  {
   "cell_type": "code",
   "execution_count": null,
   "metadata": {
    "colab": {
     "base_uri": "https://localhost:8080/"
    },
    "id": "FCB8JSqi-t7K",
    "outputId": "77b141e6-a534-47df-ecd1-c107b3f82c42"
   },
   "outputs": [],
   "source": [
    "(train_images, train_labels), (test_images, test_labels) = datasets.cifar10.load_data()\n",
    "\n",
    "# Normalize pixel values to be between 0 and 1\n",
    "train_images, test_images = train_images / 255.0, test_images / 255.0"
   ]
  },
  {
   "cell_type": "code",
   "execution_count": null,
   "metadata": {
    "id": "vwboSanvzHKP"
   },
   "outputs": [],
   "source": [
    "train_labels_onehot=utils.to_categorical(train_labels)\n",
    "test_labels_onehot=utils.to_categorical(test_labels)"
   ]
  },
  {
   "cell_type": "code",
   "execution_count": null,
   "metadata": {
    "id": "Q-F3WFQJyVvO"
   },
   "outputs": [],
   "source": [
    "train_images_encode=train_images.astype('float32')\n",
    "test_images_encode=test_images.astype('float32')"
   ]
  },
  {
   "cell_type": "code",
   "execution_count": null,
   "metadata": {
    "colab": {
     "base_uri": "https://localhost:8080/"
    },
    "id": "m-DVhKUvOuvj",
    "outputId": "ada398d6-53ca-4504-cdae-f3ebd64323e6"
   },
   "outputs": [],
   "source": [
    "np.array([cv2.cvtColor(image, cv2.COLOR_BGR2GRAY) for image in train_images_encode]).shape"
   ]
  },
  {
   "cell_type": "code",
   "execution_count": null,
   "metadata": {
    "id": "RFIc1mn2O8CK"
   },
   "outputs": [],
   "source": [
    "def RGB_IMG_To_Gray_And_Reshape(GGB_Img_Np):\n",
    "  GGB_Img_Np = GGB_Img_Np.astype('float32')\n",
    "  GGB_Img_Np = np.array([cv2.cvtColor(GGB_Img_Np, cv2.COLOR_BGR2GRAY)])[0]\n",
    "  GGB_Img_Np = GGB_Img_Np.reshape(GGB_Img_Np.shape[0], GGB_Img_Np.shape[1], 1)\n",
    "  return GGB_Img_Np "
   ]
  },
  {
   "cell_type": "code",
   "execution_count": null,
   "metadata": {
    "colab": {
     "base_uri": "https://localhost:8080/"
    },
    "id": "nVUe71H0RSoy",
    "outputId": "de6043a6-730a-4b5d-f2a9-4d52de02f103"
   },
   "outputs": [],
   "source": [
    "RGB_IMG_To_Gray_And_Reshape(test_images[0]).shape"
   ]
  },
  {
   "cell_type": "code",
   "execution_count": null,
   "metadata": {
    "colab": {
     "base_uri": "https://localhost:8080/"
    },
    "id": "YSIDnAb41_1-",
    "outputId": "2fe0ab3d-f60a-4ca2-94e3-913a4495e426"
   },
   "outputs": [],
   "source": [
    "X_train=train_images_encode\n",
    "X_train = np.array([cv2.cvtColor(image, cv2.COLOR_BGR2GRAY) for image in X_train])\n",
    "X_train=X_train.reshape(X_train.shape[0], X_train.shape[1], X_train.shape[2], 1)\n",
    "X_train.shape"
   ]
  },
  {
   "cell_type": "code",
   "execution_count": null,
   "metadata": {
    "colab": {
     "base_uri": "https://localhost:8080/"
    },
    "id": "jFU0usQc9KUM",
    "outputId": "1786eff8-9f43-4fc3-d95c-685ec503c133"
   },
   "outputs": [],
   "source": [
    "X_test=test_images_encode\n",
    "X_test = np.array([cv2.cvtColor(image, cv2.COLOR_BGR2GRAY) for image in X_test])\n",
    "X_test = X_test.reshape(X_test.shape[0], X_test.shape[1], X_test.shape[2], 1)\n",
    "X_test.shape"
   ]
  },
  {
   "cell_type": "code",
   "execution_count": null,
   "metadata": {
    "colab": {
     "base_uri": "https://localhost:8080/"
    },
    "id": "QIV70GEs99h0",
    "outputId": "12d3acfd-310a-4e82-b37e-09dae833e1a9"
   },
   "outputs": [],
   "source": [
    "input_shape = (X_train.shape[1], X_train.shape[2], 1)\n",
    "input_shape"
   ]
  },
  {
   "cell_type": "code",
   "execution_count": null,
   "metadata": {
    "colab": {
     "base_uri": "https://localhost:8080/"
    },
    "id": "auj0fv00IYDd",
    "outputId": "7a30d3fd-b2b8-4e20-f3a6-b8d99c106be2"
   },
   "outputs": [],
   "source": [
    "backend.clear_session()\n",
    "\n",
    "model = models.Sequential()\n",
    "\n",
    "model.add(layers.Conv2D(32, (3, 3), activation='relu', input_shape=(32, 32, 1)))\n",
    "\n",
    "model.add(layers.Conv2D(64, (3, 3), activation='relu'))\n",
    "model.add(layers.Dropout(0.2))\n",
    "model.add(layers.MaxPooling2D((2, 2)))\n",
    "\n",
    "model.add(layers.Conv2D(128, (3, 3), activation='relu'))\n",
    "model.add(layers.Dropout(0.2))\n",
    "model.add(layers.MaxPooling2D((2,2)))\n",
    "\n",
    "model.add(layers.Conv2D(256, (3, 3), activation='relu'))\n",
    "model.add(layers.Dropout(0.2))\n",
    "model.add(layers.MaxPooling2D((2,2)))\n",
    "\n",
    "model.add(layers.Conv2D(512, (1, 1), activation='relu'))\n",
    "\n",
    "\n",
    "model.add(layers.Flatten())\n",
    "model.add(layers.Dense(512, activation='relu'))\n",
    "model.add(layers.Dense(10,activation='softmax'))\n",
    "model.summary()"
   ]
  },
  {
   "cell_type": "code",
   "execution_count": null,
   "metadata": {
    "id": "wmShZcbjIRyT"
   },
   "outputs": [],
   "source": [
    "es = callbacks.EarlyStopping(monitor='val_loss', mode='min', verbose=1, patience=3)"
   ]
  },
  {
   "cell_type": "code",
   "execution_count": null,
   "metadata": {
    "colab": {
     "base_uri": "https://localhost:8080/"
    },
    "id": "pBJ8weDlGay1",
    "outputId": "fed30cae-4fd5-4365-c7b9-d6761222f88a"
   },
   "outputs": [],
   "source": [
    "model.compile(optimizer='adam',\n",
    "              loss=tf.keras.losses.CategoricalCrossentropy(),\n",
    "              metrics=['accuracy'])\n",
    "\n",
    "history = model.fit(X_train, train_labels_onehot,batch_size=700,epochs=50, \n",
    "                     validation_data=(X_test, test_labels_onehot),\n",
    "                     callbacks=[es])"
   ]
  },
  {
   "cell_type": "code",
   "execution_count": null,
   "metadata": {
    "colab": {
     "base_uri": "https://localhost:8080/",
     "height": 301
    },
    "id": "MUJc_jrL_iCC",
    "outputId": "6b377d77-042f-4cf5-f0ae-dd46e9ac4f8d"
   },
   "outputs": [],
   "source": [
    "plt.plot(history.history['accuracy'], label='accuracy')\n",
    "plt.plot(history.history['val_accuracy'], label = 'val_accuracy')\n",
    "plt.xlabel('Epoch')\n",
    "plt.ylabel('Accuracy')\n",
    "plt.ylim([0, 1])\n",
    "plt.legend(loc='lower right')\n",
    "\n",
    "#test_loss, test_acc = model.evaluate(test_images,  test_labels, verbose=2)"
   ]
  },
  {
   "cell_type": "code",
   "execution_count": null,
   "metadata": {
    "colab": {
     "base_uri": "https://localhost:8080/"
    },
    "id": "jr-4adNUMqvD",
    "outputId": "905de063-7b7a-4ca4-c49c-d6aedb40d808"
   },
   "outputs": [],
   "source": [
    "test_loss, test_acc = model.evaluate(X_test,  test_labels_onehot, verbose=2)"
   ]
  },
  {
   "cell_type": "code",
   "execution_count": null,
   "metadata": {
    "id": "B01_rrMSM4FF"
   },
   "outputs": [],
   "source": [
    "#history.history"
   ]
  },
  {
   "cell_type": "code",
   "execution_count": null,
   "metadata": {
    "colab": {
     "base_uri": "https://localhost:8080/"
    },
    "id": "Vu41QiIrAKYU",
    "outputId": "db35dad5-438f-44bf-a2f0-d14f40d1244d"
   },
   "outputs": [],
   "source": [
    "print(test_acc)"
   ]
  },
  {
   "cell_type": "code",
   "execution_count": null,
   "metadata": {
    "colab": {
     "base_uri": "https://localhost:8080/"
    },
    "id": "tngNwKLgaVYV",
    "outputId": "35551d61-c2d1-4b9d-b213-5cdd7931712e"
   },
   "outputs": [],
   "source": [
    "X_test.shape"
   ]
  },
  {
   "cell_type": "code",
   "execution_count": null,
   "metadata": {
    "id": "-OfgW-TWIVnF"
   },
   "outputs": [],
   "source": [
    "def img_fromArray(imgArr,view=True):  \n",
    "  imgFromArr=Image.fromarray(np.uint8(imgArr*255))\n",
    "  if(view):\n",
    "    ds(imgFromArr)\n",
    "  return imgFromArr   "
   ]
  },
  {
   "cell_type": "code",
   "execution_count": null,
   "metadata": {
    "id": "ZLr6DrBfysKN"
   },
   "outputs": [],
   "source": [
    "def imgTensorNp(imgnp):\n",
    "    return tf.image.convert_image_dtype(np.array([imgnp]), tf.float32)"
   ]
  },
  {
   "cell_type": "code",
   "execution_count": null,
   "metadata": {
    "colab": {
     "base_uri": "https://localhost:8080/"
    },
    "id": "MUfCL2inNGGb",
    "outputId": "f2823596-0711-4dfe-8dec-42187ddc4417"
   },
   "outputs": [],
   "source": [
    "model.predict(imgTensorNp(X_test[0]))"
   ]
  },
  {
   "cell_type": "code",
   "execution_count": null,
   "metadata": {
    "id": "uUP9i4PdSuFn"
   },
   "outputs": [],
   "source": [
    "resu , resu_real , resu_real_sort , real_labelval , real_labelval_sort = 0,0,0,0,0"
   ]
  },
  {
   "cell_type": "code",
   "execution_count": null,
   "metadata": {
    "id": "91ktYVZJoUIM"
   },
   "outputs": [],
   "source": [
    "def imgPredict(TestImgNp,myModel):\n",
    "  global resu , resu_real , resu_real_sort , real_labelval , real_labelval_sort\n",
    "  img_fromArray(TestImgNp,True)\n",
    "  tensorImg=imgTensorNp(RGB_IMG_To_Gray_And_Reshape(TestImgNp))\n",
    "  resu=myModel.predict(tensorImg)\n",
    "  resu_real=np.array([])\n",
    "  real_labelval=np.array([])\n",
    "\n",
    "  for i in range(0,len(resu[0])):\n",
    "    resui=resu[0,i]\n",
    "\n",
    "    predictValue=-100\n",
    "\n",
    "    if(resui>predictValue):\n",
    "      resu_real=np.append(resu_real,resu[0,i])\n",
    "      real_labelval=np.append(real_labelval,i)\n",
    "  resu_real_sort=np.sort(resu_real)\n",
    "  real_labelval_sort=np.zeros(len(real_labelval),dtype=int)\n",
    "  real_labelval=real_labelval.astype('int') \n",
    "\n",
    "  for i in range(0,len(resu_real)):\n",
    "    for ii in range(0,len(resu_real_sort)):\n",
    "      if(resu_real_sort[ii]==resu_real[i]):\n",
    "        real_labelval_sort[ii]=real_labelval[i]\n",
    "  \n",
    "  resu_real_sort=resu_real_sort[::-1]\n",
    "  real_labelval_sort=real_labelval_sort[::-1]\n",
    "\n",
    "  lenght=3\n",
    "\n",
    "  for i in range(0,len(resu_real_sort[0:(lenght)])): \n",
    "\n",
    "    print((i+1),\n",
    "          \"\\n\\n品種:\",cifar10_labels[real_labelval_sort[i]],\n",
    "          \"\\n準確率:\",resu_real_sort[i],\n",
    "          \"\\n編號\",real_labelval_sort[i],\n",
    "          \"\\n\"\n",
    "          )\n",
    "    "
   ]
  },
  {
   "cell_type": "code",
   "execution_count": null,
   "metadata": {
    "colab": {
     "base_uri": "https://localhost:8080/",
     "height": 378
    },
    "id": "b0AmsktKNrgz",
    "outputId": "506348e1-c93a-4165-f271-79017470c93a"
   },
   "outputs": [],
   "source": [
    "imgPredict(test_images[0],model)"
   ]
  },
  {
   "cell_type": "code",
   "execution_count": null,
   "metadata": {
    "id": "Lvmu8bSrRRFy"
   },
   "outputs": [],
   "source": [
    "model_path=path+\"my_model\""
   ]
  },
  {
   "cell_type": "code",
   "execution_count": null,
   "metadata": {
    "colab": {
     "base_uri": "https://localhost:8080/"
    },
    "id": "wP3zmeZwRXDA",
    "outputId": "431d42b7-8bea-4957-d3b5-6c7aa1b133dc"
   },
   "outputs": [],
   "source": [
    "model.save(model_path)"
   ]
  },
  {
   "cell_type": "code",
   "execution_count": null,
   "metadata": {},
   "outputs": [],
   "source": [
    "model_path"
   ]
  },
  {
   "cell_type": "code",
   "execution_count": null,
   "metadata": {
    "id": "TkYntSSmx-6S"
   },
   "outputs": [],
   "source": [
    "!saved_model_cli show --dir {model_path} --all\n",
    "#dir內不接受含有空白符號的資料夾"
   ]
  },
  {
   "cell_type": "code",
   "execution_count": null,
   "metadata": {
    "id": "yaSRQvVEnfMi"
   },
   "outputs": [],
   "source": [
    "import inspect\n",
    "lines = inspect.getsource(sigModel.encode)\n",
    "print(lines)"
   ]
  },
  {
   "cell_type": "code",
   "execution_count": null,
   "metadata": {
    "id": "mgcft5ImMabu"
   },
   "outputs": [],
   "source": [
    "new_model = tf.keras.models.load_model(model_path)"
   ]
  },
  {
   "cell_type": "code",
   "execution_count": null,
   "metadata": {
    "id": "gf5iyak0NCj3"
   },
   "outputs": [],
   "source": [
    "dir(new_model)"
   ]
  },
  {
   "cell_type": "code",
   "execution_count": null,
   "metadata": {
    "id": "JuGc09WeS1kX"
   },
   "outputs": [],
   "source": [
    "def download_and_resize_image(url, new_width=32, new_height=32,display=False):\n",
    "  _, filename = tempfile.mkstemp(suffix=\".jpg\")\n",
    "  #response = urlopen(url)\n",
    "  #image_data = response.read()\n",
    "  #image_data = BytesIO(image_data)\n",
    "  image_data = url\n",
    "  new_width1=int(new_width) \n",
    "  new_height1=int(new_height) \n",
    "  pil_image = Image.open(image_data)\n",
    "  pil_image = ImageOps.fit(pil_image,(new_width1,new_height1), Image.ANTIALIAS)\n",
    "  pil_image_rgb = pil_image.convert(\"RGB\")\n",
    "  pil_image_rgb.save(filename, format=\"JPEG\", quality=100)\n",
    "  print(\"Image downloaded to %s.\" % filename)\n",
    "  if display:\n",
    "    display_image(pil_image)\n",
    "  return filename"
   ]
  },
  {
   "cell_type": "code",
   "execution_count": null,
   "metadata": {
    "colab": {
     "base_uri": "https://localhost:8080/",
     "height": 396
    },
    "id": "8Pvmi2L1UOpm",
    "outputId": "e347c159-0ca3-4b19-ff91-21845a52a00e"
   },
   "outputs": [],
   "source": [
    "imgNum=600\n",
    "imgPredict(test_images[imgNum],new_model)\n",
    "print(\"Real Value : \"+cifar10_labels[test_labels[imgNum,0]]+\" at \"+str(test_labels[imgNum,0]))"
   ]
  },
  {
   "cell_type": "code",
   "execution_count": null,
   "metadata": {
    "id": "pbPRQEHhxHhY"
   },
   "outputs": [],
   "source": [
    "def get_correct_url(base_url,part_url):\n",
    "  if(part_url.split('/')[0].find('http')==-1):\n",
    "    if(part_url.split('/')[0]==''):\n",
    "      if(part_url.split('/')[0]==''):\n",
    "        if(part_url.split('/')[1]==''):\n",
    "          if(part_url.split('/')[2]==base_url.split('/')[2]):\n",
    "            return \"http:\"+part_url\n",
    "          else:\n",
    "            pass  \n",
    "        else:\n",
    "          if(part_url.split('/')[1]==base_url.split('/')[2]):\n",
    "            return \"http:/\"+part_url\n",
    "          else:\n",
    "            return \"http://\"+base_url.split(\"/\")[2]+part_url \n",
    "      else:  \n",
    "        return \"http://\"+base_url.split(\"/\")[2]+\"/\"+part_url \n",
    "    else:\n",
    "      return \"http://\"+base_url.split(\"/\")[2]+\"/\"+part_url       \n",
    "\n",
    "  else:\n",
    "    return part_url\n",
    "\n",
    "my_imgs_now=[]\n",
    "my_imgs_now_np=[]\n",
    "dirPath = os.walk(path)\n",
    "img_dir_path=list(dirPath)[0][2]\n",
    "for i in img_dir_path:\n",
    "    if(i.split('.')[-1]==\"jpg\"):\n",
    "        my_imgs_now.append(i)\n",
    "\n",
    "def png_to_jpg(mypath):\n",
    "  im = Image.open(path+mypath)\n",
    "  rgb_im = im.convert('RGB')\n",
    "  rgb_im.save(path+mypath+\".jpg\")\n",
    "\n",
    "def my_save_img():\n",
    "  global my_imgs_now\n",
    "  def my_save_url_img(my_img_url): \n",
    "    headers = {\"User-Agent\":\"Mozilla/5.0 (Windows NT 10.0; Win64; x64) AppleWebKit/537.36 (KHTML, like Gecko) Chrome/67.0.3396.99 Safari/537.36\"}\n",
    "    r = requests.get(my_img_url,headers=headers, stream=True)\n",
    "    if r.status_code == 200:\n",
    "        with open(str((path+my_img_url.split('/')[-1].split('?')[0])), 'wb') as f:\n",
    "            r.raw.decode_content = True\n",
    "            shutil.copyfileobj(r.raw, f)\n",
    "\n",
    "  url_01=input(\"請輸入圖片網址：\")\n",
    "  url_01_type=url_01.split('/')[-1].split('.')[-1].split('?')[0]\n",
    "\n",
    "  \n",
    "  if(url_01_type=='jpg'):\n",
    "    my_save_url_img(url_01)\n",
    "    my_imgs_now.append(url_01.split('/')[-1].split('?')[0])\n",
    "  \n",
    "  elif(url_01_type=='png'):\n",
    "    my_save_url_img(url_01)\n",
    "    my_imgs_now.append(url_01.split('/')[-1].split('?')[0]+\".jpg\")\n",
    "    png_to_jpg(url_01.split('/')[-1].split('?')[0])\n",
    "\n",
    "  else:\n",
    "    try:\n",
    "      #response.status_code,response.content,response.text\n",
    "      headers = {\"User-Agent\":\"Mozilla/5.0 (Windows NT 10.0; Win64; x64) AppleWebKit/537.36 (KHTML, like Gecko) Chrome/67.0.3396.99 Safari/537.36\"}\n",
    "      my_response = requests.get(url_01,headers=headers)\n",
    "      my_content = my_response.content.decode()\n",
    "      my_html = etree.HTML(my_content)\n",
    "      my_imgs = my_html.xpath('.//img/@src')\n",
    "      print(my_imgs,\"\\n\")\n",
    "      for i in my_imgs:\n",
    "        try:\n",
    "          if(i.split('/')[-1].split('.')[-1].split('?')[0]=='png'):\n",
    "            #change this line\n",
    "            my_save_url_img(get_correct_url(url_01,i))\n",
    "            my_imgs_now.append(i.split('/')[-1].split('?')[0]+\".jpg\")\n",
    "            png_to_jpg(i.split('/')[-1].split('?')[0])\n",
    "          elif(i.split('/')[-1].split('.')[-1].split('?')[0]=='jpg'):\n",
    "            #change this line\n",
    "            my_save_url_img(get_correct_url(url_01,i))\n",
    "            my_imgs_now.append(i.split('/')[-1].split('?')[0])    \n",
    "        except:\n",
    "          pass\n",
    "    except:\n",
    "      pass  \n",
    "\n",
    "\n",
    "  if(len(my_imgs_now)==0 or url_01==''):\n",
    "    print('圖片網址設定失敗，使用預設圖片')\n",
    "    url_01=\"https://64.media.tumblr.com/464a8a1770ac6b2c09c80232911673b7/b6713c87a0ba23de-b6/s1280x1920/0306a7f325e1c10e768a26ac2e1ea805ad3211d5.jpg\"\n",
    "    url_01=\"https://www.collinsdictionary.com/images/full/apple_158989157.jpg\"\n",
    "    url_01=\"https://www.aquariumofpacific.org/images/exhibits/Magnificent_Tree_Frog_900.jpg\"\n",
    "    my_save_url_img(url_01)\n",
    "    my_imgs_now.append(url_01.split('/')[-1].split('?')[0])  \n",
    "  else:  \n",
    "    print('圖片網址設定成功')\n",
    "    \n",
    "  remove_img=list(enumerate(my_imgs_now[0:]))\n",
    "  for i in remove_img:\n",
    "      img_repeat=i[1]\n",
    "      for ii in remove_img[i[0]+1:]:\n",
    "          if(img_repeat==ii[1]):\n",
    "             my_imgs_now.remove(img_repeat) \n",
    "             break\n",
    "       \n",
    "\n",
    "def get_image_size(my_img):\n",
    "  im = Image.open(my_img)\n",
    "  return im.size"
   ]
  },
  {
   "cell_type": "markdown",
   "metadata": {
    "id": "HVJ6HYiS5up7"
   },
   "source": [
    "Setting Image"
   ]
  },
  {
   "cell_type": "code",
   "execution_count": null,
   "metadata": {
    "colab": {
     "base_uri": "https://localhost:8080/"
    },
    "id": "s1apCNLvxM2H",
    "outputId": "fd548fd4-a358-46b5-a246-42376f3dc158"
   },
   "outputs": [],
   "source": [
    "my_save_img()"
   ]
  },
  {
   "cell_type": "code",
   "execution_count": null,
   "metadata": {
    "colab": {
     "base_uri": "https://localhost:8080/"
    },
    "id": "ppJWKCJJwTs4",
    "outputId": "0207c845-81aa-465c-c012-28600a94aa3c"
   },
   "outputs": [],
   "source": [
    "my_imgs_now_np=[]\n",
    "for i in range(0,len(my_imgs_now)):\n",
    "  image = Image.open(download_and_resize_image(path+my_imgs_now[i]))   # image is a PIL image \n",
    "  my_imgs_now_np.append( np.array(image)/255  )"
   ]
  },
  {
   "cell_type": "markdown",
   "metadata": {
    "id": "Gw4851sN5zib"
   },
   "source": [
    "Image Completition Setting"
   ]
  },
  {
   "cell_type": "code",
   "execution_count": null,
   "metadata": {
    "colab": {
     "base_uri": "https://localhost:8080/"
    },
    "id": "M5z5x4Wcyh5Y",
    "outputId": "61b3859f-5508-4fb3-9863-6d541774e8f6"
   },
   "outputs": [],
   "source": [
    "my_imgs_now_np[0].shape"
   ]
  },
  {
   "cell_type": "markdown",
   "metadata": {
    "id": "f9iyg8C57tML"
   },
   "source": [
    "Model Predict"
   ]
  },
  {
   "cell_type": "code",
   "execution_count": null,
   "metadata": {
    "colab": {
     "base_uri": "https://localhost:8080/",
     "height": 378
    },
    "id": "7GFznBRXx6Ig",
    "outputId": "c121b320-c132-498a-a87b-7866df71fbcc"
   },
   "outputs": [],
   "source": [
    "imgPredict(my_imgs_now_np[0],new_model)"
   ]
  },
  {
   "cell_type": "code",
   "execution_count": null,
   "metadata": {},
   "outputs": [],
   "source": [
    "for i in my_imgs_now_np:\n",
    "    imgPredict(i,new_model)"
   ]
  },
  {
   "cell_type": "code",
   "execution_count": null,
   "metadata": {
    "id": "gnDDwzkw00g8"
   },
   "outputs": [],
   "source": [
    "sigModel=new_model.signatures['serving_default']"
   ]
  },
  {
   "cell_type": "code",
   "execution_count": null,
   "metadata": {
    "id": "rBaIU9io1NOk"
   },
   "outputs": [],
   "source": [
    "def sigModelPredict(TestImgNp,myModel,sigOutputName):\n",
    "  global resu , resu_real , resu_real_sort , real_labelval , real_labelval_sort\n",
    "  img_fromArray(TestImgNp,True)\n",
    "  tensorImg=imgTensorNp( RGB_IMG_To_Gray_And_Reshape(TestImgNp) )\n",
    "  resu=myModel(tensorImg)\n",
    "  resu_real=np.array([])\n",
    "  real_labelval=np.array([])\n",
    "  resu=resu[sigOutputName].numpy()\n",
    "  for i in range(0,len(resu[0])):\n",
    "    resui=resu[0,i]\n",
    "\n",
    "    predictValue=-100\n",
    "\n",
    "    if(resui>predictValue):\n",
    "      resu_real=np.append(resu_real,resu[0,i])\n",
    "      real_labelval=np.append(real_labelval,i)\n",
    "  resu_real_sort=np.sort(resu_real)\n",
    "  real_labelval_sort=np.zeros(len(real_labelval),dtype=int)\n",
    "  real_labelval=real_labelval.astype('int') \n",
    "\n",
    "  for i in range(0,len(resu_real)):\n",
    "    for ii in range(0,len(resu_real_sort)):\n",
    "      if(resu_real_sort[ii]==resu_real[i]):\n",
    "        real_labelval_sort[ii]=real_labelval[i]\n",
    "  \n",
    "  resu_real_sort=resu_real_sort[::-1]\n",
    "  real_labelval_sort=real_labelval_sort[::-1]\n",
    "\n",
    "  lenght=3\n",
    "\n",
    "  for i in range(0,len(resu_real_sort[0:(lenght)])): \n",
    "\n",
    "    print((i+1),\n",
    "          \"\\n\\n品種:\",cifar10_labels[real_labelval_sort[i]],\n",
    "          \"\\n準確率:\",resu_real_sort[i],\n",
    "          \"\\n編號\",real_labelval_sort[i],\n",
    "          \"\\n\"\n",
    "          )\n",
    "    "
   ]
  },
  {
   "cell_type": "code",
   "execution_count": null,
   "metadata": {
    "colab": {
     "base_uri": "https://localhost:8080/",
     "height": 378
    },
    "id": "EPIWzN4U07Oj",
    "outputId": "a598c060-8296-4b7f-c892-754993e70672"
   },
   "outputs": [],
   "source": [
    "sigModelPredict(my_imgs_now_np[0],sigModel,'dense_1')"
   ]
  },
  {
   "cell_type": "markdown",
   "metadata": {
    "id": "M09CpNwk41xi"
   },
   "source": [
    "Using Tensorflow Hub Load \n",
    "\n",
    "Detection With Signatures"
   ]
  },
  {
   "cell_type": "code",
   "execution_count": null,
   "metadata": {
    "colab": {
     "base_uri": "https://localhost:8080/"
    },
    "id": "ufl865054snb",
    "outputId": "4c307b11-56e6-42eb-9863-80e505d875fc",
    "scrolled": true
   },
   "outputs": [],
   "source": [
    "!pip install --upgrade tensorflow_hub\n",
    "import tensorflow_hub as hub"
   ]
  },
  {
   "cell_type": "code",
   "execution_count": null,
   "metadata": {
    "id": "Gr_DWild4-wL"
   },
   "outputs": [],
   "source": [
    "hub_model_load = hub.load(model_path)"
   ]
  },
  {
   "cell_type": "code",
   "execution_count": null,
   "metadata": {
    "id": "fpv219gb5ObU"
   },
   "outputs": [],
   "source": [
    "detector=hub_model_load.signatures['serving_default']"
   ]
  },
  {
   "cell_type": "code",
   "execution_count": null,
   "metadata": {
    "colab": {
     "base_uri": "https://localhost:8080/",
     "height": 378
    },
    "id": "IZ3voEjj5l5r",
    "outputId": "28de609c-c8a9-433f-f963-537e19c8a838"
   },
   "outputs": [],
   "source": [
    "sigModelPredict(my_imgs_now_np[0],detector,'dense_1')"
   ]
  },
  {
   "cell_type": "code",
   "execution_count": null,
   "metadata": {},
   "outputs": [],
   "source": [
    "for i in my_imgs_now_np:\n",
    "    imgPredict(i,new_model)"
   ]
  },
  {
   "cell_type": "code",
   "execution_count": null,
   "metadata": {},
   "outputs": [],
   "source": []
  }
 ],
 "metadata": {
  "accelerator": "GPU",
  "colab": {
   "collapsed_sections": [],
   "name": "Cifar10_CNN_Image_Classification_CategoricalCrossentropy.ipynb",
   "provenance": []
  },
  "kernelspec": {
   "display_name": "Python 3 (ipykernel)",
   "language": "python",
   "name": "python3"
  },
  "language_info": {
   "codemirror_mode": {
    "name": "ipython",
    "version": 3
   },
   "file_extension": ".py",
   "mimetype": "text/x-python",
   "name": "python",
   "nbconvert_exporter": "python",
   "pygments_lexer": "ipython3",
   "version": "3.9.7"
  }
 },
 "nbformat": 4,
 "nbformat_minor": 1
}
