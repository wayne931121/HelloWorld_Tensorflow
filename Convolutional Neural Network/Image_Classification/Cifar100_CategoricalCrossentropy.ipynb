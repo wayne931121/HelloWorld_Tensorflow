{
 "cells": [
  {
   "cell_type": "markdown",
   "metadata": {
    "id": "GFLag2HxGO3n"
   },
   "source": [
    "**參考網站：**\n",
    "\n",
    "***https://www.tensorflow.org/tutorials/images/cnn***\n",
    "\n",
    "***https://www.tensorflow.org/tutorials/keras/save_and_load***\n"
   ]
  },
  {
   "cell_type": "code",
   "execution_count": null,
   "metadata": {
    "id": "sydJc0GzmbmQ"
   },
   "outputs": [],
   "source": [
    "import tensorflow as tf\n",
    "\n",
    "import os\n",
    "from tensorflow.keras import datasets, layers, models ,backend ,utils , callbacks\n",
    "import matplotlib.pyplot as plt\n",
    "from PIL import Image\n",
    "from PIL import ImageColor\n",
    "from PIL import ImageDraw\n",
    "from PIL import ImageFont\n",
    "from PIL import ImageOps\n",
    "from IPython.display import display as ds\n",
    "import time\n",
    "import numpy as np\n",
    "import tempfile\n",
    "import pathlib\n",
    "import requests\n",
    "import shutil\n",
    "from lxml import etree"
   ]
  },
  {
   "cell_type": "code",
   "execution_count": null,
   "metadata": {},
   "outputs": [],
   "source": [
    "import ssl\n",
    "ssl._create_default_https_context = ssl._create_unverified_context"
   ]
  },
  {
   "cell_type": "code",
   "execution_count": null,
   "metadata": {},
   "outputs": [],
   "source": [
    "path =  os.getcwd() \n",
    "\n",
    "if(not os.path.exists(path+r\"\\images\")):\n",
    "   os.mkdir(\"images\")\n",
    "\n",
    "path=path.replace(\"\\\\\", \"/\")\n",
    "\n",
    "path=path+\"/images/\"\n",
    "\n",
    "print( path )"
   ]
  },
  {
   "cell_type": "markdown",
   "metadata": {
    "id": "A19UdmCFw7ye"
   },
   "source": [
    "Start Cifar100 CNN Model Test"
   ]
  },
  {
   "cell_type": "code",
   "execution_count": null,
   "metadata": {
    "id": "9_n72sfQ2mNK"
   },
   "outputs": [],
   "source": [
    "cifar100_labels = ['apple', 'aquarium_fish', 'baby', 'bear', 'beaver', 'bed', 'bee', 'beetle', 'bicycle', 'bottle', 'bowl', 'boy', 'bridge', 'bus', 'butterfly', 'camel', 'can', 'castle', 'caterpillar', 'cattle', 'chair', 'chimpanzee', 'clock', 'cloud', 'cockroach', 'couch', 'crab', 'crocodile', 'cup', 'dinosaur', 'dolphin', 'elephant', 'flatfish', 'forest', 'fox', 'girl', 'hamster', 'house', 'kangaroo', 'keyboard', 'lamp', 'lawn_mower', 'leopard', 'lion', 'lizard', 'lobster', 'man', 'maple_tree', 'motorcycle', 'mountain', 'mouse', 'mushroom', 'oak_tree', 'orange', 'orchid', 'otter', 'palm_tree', 'pear', 'pickup_truck', 'pine_tree', 'plain', 'plate', 'poppy', 'porcupine', 'possum', 'rabbit', 'raccoon', 'ray', 'road', 'rocket', 'rose', 'sea', 'seal', 'shark', 'shrew', 'skunk', 'skyscraper', 'snail', 'snake', 'spider', 'squirrel', 'streetcar', 'sunflower', 'sweet_pepper', 'table', 'tank', 'telephone', 'television', 'tiger', 'tractor', 'train', 'trout', 'tulip', 'turtle', 'wardrobe', 'whale', 'willow_tree', 'wolf', 'woman', 'worm']"
   ]
  },
  {
   "cell_type": "code",
   "execution_count": null,
   "metadata": {
    "colab": {
     "base_uri": "https://localhost:8080/"
    },
    "id": "5XqrGA8o-p3i",
    "outputId": "3589b9ff-c672-4323-ce97-f91e720b11d3"
   },
   "outputs": [],
   "source": [
    "print(\"Num GPUs Available: \", len(tf.config.list_physical_devices('GPU')))"
   ]
  },
  {
   "cell_type": "code",
   "execution_count": null,
   "metadata": {
    "colab": {
     "base_uri": "https://localhost:8080/"
    },
    "id": "FCB8JSqi-t7K",
    "outputId": "f3011c63-49a9-4d81-b261-2788cdf210a2"
   },
   "outputs": [],
   "source": [
    "(train_images, train_labels), (test_images, test_labels) = datasets.cifar100.load_data()\n",
    "\n",
    "# Normalize pixel values to be between 0 and 1\n",
    "train_images, test_images = train_images / 255.0, test_images / 255.0"
   ]
  },
  {
   "cell_type": "code",
   "execution_count": null,
   "metadata": {
    "id": "yJJ1BVMnO2XH"
   },
   "outputs": [],
   "source": [
    "train_labels_onehot=utils.to_categorical(train_labels)\n",
    "test_labels_onehot=utils.to_categorical(test_labels)"
   ]
  },
  {
   "cell_type": "code",
   "execution_count": null,
   "metadata": {
    "id": "auj0fv00IYDd"
   },
   "outputs": [],
   "source": [
    "backend.clear_session()\n",
    "\n",
    "model = models.Sequential()\n",
    "\n",
    "model.add(layers.Conv2D(32, (3, 3), activation='relu', input_shape=(32, 32, 3)))\n",
    "\n",
    "model.add(layers.Conv2D(64, (3, 3), activation='relu'))\n",
    "model.add(layers.Dropout(0.2))\n",
    "model.add(layers.MaxPooling2D((2, 2)))\n",
    "\n",
    "model.add(layers.Conv2D(64, (3, 3), activation='relu'))\n",
    "model.add(layers.Dropout(0.2))\n",
    "model.add(layers.MaxPooling2D((2,2)))\n",
    "\n",
    "model.add(layers.Conv2D(128, (3, 3), activation='relu'))\n",
    "model.add(layers.Dropout(0.2))\n",
    "model.add(layers.MaxPooling2D((2,2)))\n",
    "\n",
    "model.add(layers.Conv2D(128, (1, 1), activation='relu'))\n",
    "\n",
    "\n",
    "model.add(layers.Flatten())\n",
    "model.add(layers.Dense(256, activation='relu'))\n",
    "model.add(layers.Dense(100 , activation='softmax'))\n",
    "#model.summary()"
   ]
  },
  {
   "cell_type": "code",
   "execution_count": null,
   "metadata": {
    "id": "lqzUIr02Poju"
   },
   "outputs": [],
   "source": [
    "es = callbacks.EarlyStopping(monitor='val_loss', mode='min', verbose=1, patience=3)"
   ]
  },
  {
   "cell_type": "code",
   "execution_count": null,
   "metadata": {
    "colab": {
     "base_uri": "https://localhost:8080/"
    },
    "id": "pBJ8weDlGay1",
    "outputId": "e46dc8a5-abe7-4772-cd39-1b50dab728b8"
   },
   "outputs": [],
   "source": [
    "model.compile(optimizer='adam',\n",
    "              loss=tf.keras.losses.CategoricalCrossentropy(),\n",
    "              metrics=['accuracy'])\n",
    "\n",
    "history = model.fit(train_images, train_labels_onehot,batch_size=700,epochs=100, \n",
    "                    validation_data=(test_images, test_labels_onehot),\n",
    "                    callbacks=[es])"
   ]
  },
  {
   "cell_type": "code",
   "execution_count": null,
   "metadata": {
    "colab": {
     "base_uri": "https://localhost:8080/",
     "height": 241
    },
    "id": "MUJc_jrL_iCC",
    "outputId": "5ead95fc-a0cd-4867-beb8-f98ca8c793b7"
   },
   "outputs": [],
   "source": [
    "plt.plot(history.history['accuracy'], label='accuracy')\n",
    "plt.plot(history.history['val_accuracy'], label = 'val_accuracy')\n",
    "plt.xlabel('Epoch')\n",
    "plt.ylabel('Accuracy')\n",
    "plt.ylim([0, 1])\n",
    "plt.legend(loc='lower right')"
   ]
  },
  {
   "cell_type": "code",
   "execution_count": null,
   "metadata": {
    "colab": {
     "base_uri": "https://localhost:8080/"
    },
    "id": "OvNJTkBqSn9f",
    "outputId": "2c7f3704-b9cb-4075-88b8-6cf9a9949ffe"
   },
   "outputs": [],
   "source": [
    "test_loss, test_acc = model.evaluate(test_images,  test_labels_onehot, verbose=2)"
   ]
  },
  {
   "cell_type": "code",
   "execution_count": null,
   "metadata": {
    "id": "B01_rrMSM4FF"
   },
   "outputs": [],
   "source": [
    "history.history"
   ]
  },
  {
   "cell_type": "code",
   "execution_count": null,
   "metadata": {
    "colab": {
     "base_uri": "https://localhost:8080/"
    },
    "id": "Vu41QiIrAKYU",
    "outputId": "48eeee6e-852c-4eb2-d2ed-a4352d435895"
   },
   "outputs": [],
   "source": [
    "print(test_acc)"
   ]
  },
  {
   "cell_type": "code",
   "execution_count": null,
   "metadata": {
    "colab": {
     "base_uri": "https://localhost:8080/"
    },
    "id": "tngNwKLgaVYV",
    "outputId": "dbae4578-aa72-4d53-9d95-792e6d959826"
   },
   "outputs": [],
   "source": [
    "test_images.shape"
   ]
  },
  {
   "cell_type": "code",
   "execution_count": null,
   "metadata": {
    "id": "-OfgW-TWIVnF"
   },
   "outputs": [],
   "source": [
    "def img_fromArray(imgArr,view=True):  \n",
    "  imgFromArr=Image.fromarray(np.uint8(imgArr*255))\n",
    "  if(view):\n",
    "    ds(imgFromArr)\n",
    "  return imgFromArr"
   ]
  },
  {
   "cell_type": "code",
   "execution_count": null,
   "metadata": {
    "id": "ZLr6DrBfysKN"
   },
   "outputs": [],
   "source": [
    "def imgTensorNp(imgnp):\n",
    "    return tf.image.convert_image_dtype(np.array([imgnp]), tf.float32)"
   ]
  },
  {
   "cell_type": "code",
   "execution_count": null,
   "metadata": {
    "id": "uUP9i4PdSuFn"
   },
   "outputs": [],
   "source": [
    "resu , resu_real , resu_real_sort , real_labelval , real_labelval_sort = 0,0,0,0,0"
   ]
  },
  {
   "cell_type": "code",
   "execution_count": null,
   "metadata": {
    "id": "91ktYVZJoUIM"
   },
   "outputs": [],
   "source": [
    "def imgPredict(TestImgNp,myModel , have_origin_img_np=False , origin_img_np=None ):\n",
    "  global resu , resu_real , resu_real_sort , real_labelval , real_labelval_sort\n",
    "  if(have_origin_img_np):\n",
    "        img_fromArray(origin_img_np,True)\n",
    "  else:\n",
    "    img_fromArray(TestImgNp,True)    \n",
    "  tensorImg=imgTensorNp(TestImgNp)\n",
    "  resu=myModel.predict(tensorImg)\n",
    "  resu_real=np.array([])\n",
    "  real_labelval=np.array([])\n",
    "\n",
    "  for i in range(0,len(resu[0])):\n",
    "    resui=resu[0,i]\n",
    "\n",
    "    predictValue=-100\n",
    "\n",
    "    if(resui>predictValue):\n",
    "      resu_real=np.append(resu_real,resu[0,i])\n",
    "      real_labelval=np.append(real_labelval,i)\n",
    "  resu_real_sort=np.sort(resu_real)\n",
    "  real_labelval_sort=np.zeros(len(real_labelval),dtype=int)\n",
    "  real_labelval=real_labelval.astype('int') \n",
    "\n",
    "  for i in range(0,len(resu_real)):\n",
    "    for ii in range(0,len(resu_real_sort)):\n",
    "      if(resu_real_sort[ii]==resu_real[i]):\n",
    "        real_labelval_sort[ii]=real_labelval[i]\n",
    "  \n",
    "  resu_real_sort=resu_real_sort[::-1]\n",
    "  real_labelval_sort=real_labelval_sort[::-1]\n",
    "\n",
    "  lenght=3\n",
    "\n",
    "  for i in range(0,len(resu_real_sort[0:(lenght)])): \n",
    "\n",
    "    print((i+1),\n",
    "          \"\\n\\n品種:\",cifar100_labels[real_labelval_sort[i]],\n",
    "          \"\\n準確率:\",resu_real_sort[i],\n",
    "          \"\\n編號\",real_labelval_sort[i],\n",
    "          \"\\n\"\n",
    "          )"
   ]
  },
  {
   "cell_type": "code",
   "execution_count": null,
   "metadata": {
    "colab": {
     "base_uri": "https://localhost:8080/",
     "height": 378
    },
    "id": "dtDrn-n2Sip3",
    "outputId": "950da4ee-b70f-462e-bb52-3e582d455505"
   },
   "outputs": [],
   "source": [
    "imgNum=650\n",
    "imgPredict(test_images[imgNum],model)\n",
    "print(\"Real Value : \"+cifar100_labels[test_labels[imgNum,0]]+\" at \"+str(test_labels[imgNum,0]))"
   ]
  },
  {
   "cell_type": "code",
   "execution_count": null,
   "metadata": {
    "id": "Lvmu8bSrRRFy"
   },
   "outputs": [],
   "source": [
    "model_path=path+\"my_model\""
   ]
  },
  {
   "cell_type": "code",
   "execution_count": null,
   "metadata": {
    "colab": {
     "base_uri": "https://localhost:8080/"
    },
    "id": "wP3zmeZwRXDA",
    "outputId": "34f39706-44b2-48c3-c4f6-a3a624b5547a"
   },
   "outputs": [],
   "source": [
    "model.save(model_path)"
   ]
  },
  {
   "cell_type": "code",
   "execution_count": null,
   "metadata": {
    "id": "TkYntSSmx-6S",
    "scrolled": true
   },
   "outputs": [],
   "source": [
    "#!saved_model_cli show --dir {model_path} --all\n",
    "#dir內不接受含有空白符號的資料夾"
   ]
  },
  {
   "cell_type": "code",
   "execution_count": null,
   "metadata": {
    "id": "mgcft5ImMabu"
   },
   "outputs": [],
   "source": [
    "new_model = tf.keras.models.load_model(model_path)"
   ]
  },
  {
   "cell_type": "code",
   "execution_count": null,
   "metadata": {
    "id": "gf5iyak0NCj3"
   },
   "outputs": [],
   "source": [
    "dir(new_model)"
   ]
  },
  {
   "cell_type": "code",
   "execution_count": null,
   "metadata": {
    "id": "JuGc09WeS1kX"
   },
   "outputs": [],
   "source": [
    "def download_and_resize_image(url, new_width=32, new_height=32,display=False):\n",
    "  _, filename = tempfile.mkstemp(suffix=\".jpg\")\n",
    "  #response = urlopen(url)\n",
    "  #image_data = response.read()\n",
    "  #image_data = BytesIO(image_data)\n",
    "  image_data = url\n",
    "  new_width1=int(new_width) \n",
    "  new_height1=int(new_height) \n",
    "  pil_image = Image.open(image_data)\n",
    "  pil_image = ImageOps.fit(pil_image,(new_width1,new_height1), Image.ANTIALIAS)\n",
    "  pil_image_rgb = pil_image.convert(\"RGB\")\n",
    "  pil_image_rgb.save(filename, format=\"JPEG\", quality=100)\n",
    "  print(\"Image downloaded to %s.\" % filename)\n",
    "  if display:\n",
    "    display_image(pil_image)\n",
    "  return filename"
   ]
  },
  {
   "cell_type": "code",
   "execution_count": null,
   "metadata": {
    "colab": {
     "base_uri": "https://localhost:8080/",
     "height": 378
    },
    "id": "8Pvmi2L1UOpm",
    "outputId": "ad33980a-9d12-4697-ab93-decbe75e23c3"
   },
   "outputs": [],
   "source": [
    "imgNum=650\n",
    "imgPredict(test_images[imgNum],new_model)\n",
    "print(\"Real Value : \"+cifar100_labels[test_labels[imgNum,0]]+\" at \"+str(test_labels[imgNum,0]))"
   ]
  },
  {
   "cell_type": "code",
   "execution_count": null,
   "metadata": {},
   "outputs": [],
   "source": [
    "my_imgs_now=[]\n",
    "my_imgs_now_np=[]\n",
    "my_imgs_now_origin_np=[]\n",
    "dirPath = os.walk(path)\n",
    "img_dir_path=list(dirPath)[0][2]\n",
    "for i in img_dir_path:\n",
    "    if(i.split('.')[-1]==\"jpg\"):\n",
    "        my_imgs_now.append(i)\n",
    "#list(enumerate(dirPath))[0]"
   ]
  },
  {
   "cell_type": "code",
   "execution_count": null,
   "metadata": {
    "id": "pbPRQEHhxHhY"
   },
   "outputs": [],
   "source": [
    "def get_correct_url(base_url,part_url):\n",
    "  if(part_url.split('/')[0].find('http')==-1):\n",
    "    if(part_url.split('/')[0]==''):\n",
    "      if(part_url.split('/')[0]==''):\n",
    "        if(part_url.split('/')[1]==''):\n",
    "          if(part_url.split('/')[2]==base_url.split('/')[2]):\n",
    "            return \"http:\"+part_url\n",
    "          else:\n",
    "            pass  \n",
    "        else:\n",
    "          if(part_url.split('/')[1]==base_url.split('/')[2]):\n",
    "            return \"http:/\"+part_url\n",
    "          else:\n",
    "            return \"http://\"+base_url.split(\"/\")[2]+part_url \n",
    "      else:  \n",
    "        return \"http://\"+base_url.split(\"/\")[2]+\"/\"+part_url \n",
    "    else:\n",
    "      return \"http://\"+base_url.split(\"/\")[2]+\"/\"+part_url       \n",
    "\n",
    "  else:\n",
    "    return part_url\n",
    "\n",
    "\n",
    "\n",
    "def png_to_jpg(mypath):\n",
    "  im = Image.open(path+mypath)\n",
    "  rgb_im = im.convert('RGB')\n",
    "  rgb_im.save(path+mypath+\".jpg\")\n",
    "\n",
    "def my_save_img():\n",
    "  global my_imgs_now , my_imgs_now_np ,my_imgs_now_origin_np\n",
    "  def my_save_url_img(my_img_url): \n",
    "    headers = {\"User-Agent\":\"Mozilla/5.0 (Windows NT 10.0; Win64; x64) AppleWebKit/537.36 (KHTML, like Gecko) Chrome/67.0.3396.99 Safari/537.36\"}\n",
    "    r = requests.get(my_img_url,headers=headers, stream=True)\n",
    "    if r.status_code == 200:\n",
    "        with open(str((path+my_img_url.split('/')[-1].split('?')[0])), 'wb') as f:\n",
    "            r.raw.decode_content = True\n",
    "            shutil.copyfileobj(r.raw, f)\n",
    "\n",
    "  url_01=input(\"請輸入圖片網址：\")\n",
    "  url_01_type=url_01.split('/')[-1].split('.')[-1].split('?')[0]\n",
    "\n",
    "  \n",
    "  if(url_01_type=='jpg'):\n",
    "    my_save_url_img(url_01)\n",
    "    my_imgs_now.append(url_01.split('/')[-1].split('?')[0])\n",
    "  \n",
    "  elif(url_01_type=='png'):\n",
    "    my_save_url_img(url_01)\n",
    "    my_imgs_now.append(url_01.split('/')[-1].split('?')[0]+\".jpg\")\n",
    "    png_to_jpg(url_01.split('/')[-1].split('?')[0])\n",
    "\n",
    "  else:\n",
    "    try:\n",
    "      #response.status_code,response.content,response.text\n",
    "      headers = {\"User-Agent\":\"Mozilla/5.0 (Windows NT 10.0; Win64; x64) AppleWebKit/537.36 (KHTML, like Gecko) Chrome/67.0.3396.99 Safari/537.36\"}\n",
    "      my_response = requests.get(url_01,headers=headers)\n",
    "      my_content = my_response.content.decode()\n",
    "      my_html = etree.HTML(my_content)\n",
    "      my_imgs = my_html.xpath('.//img/@src')\n",
    "      print(my_imgs,\"\\n\")\n",
    "      for i in my_imgs:\n",
    "        try:\n",
    "          if(i.split('/')[-1].split('.')[-1].split('?')[0]=='png'):\n",
    "            #change this line\n",
    "            my_save_url_img(get_correct_url(url_01,i))\n",
    "            my_imgs_now.append(i.split('/')[-1].split('?')[0]+\".jpg\")\n",
    "            png_to_jpg(i.split('/')[-1].split('?')[0])\n",
    "          elif(i.split('/')[-1].split('.')[-1].split('?')[0]=='jpg'):\n",
    "            #change this line\n",
    "            my_save_url_img(get_correct_url(url_01,i))\n",
    "            my_imgs_now.append(i.split('/')[-1].split('?')[0])    \n",
    "        except:\n",
    "          pass\n",
    "    except:\n",
    "      pass  \n",
    "\n",
    "\n",
    "  if(len(my_imgs_now)==0 or url_01==''):\n",
    "    print('圖片網址設定失敗，使用預設圖片')\n",
    "    url_01=\"https://64.media.tumblr.com/464a8a1770ac6b2c09c80232911673b7/b6713c87a0ba23de-b6/s1280x1920/0306a7f325e1c10e768a26ac2e1ea805ad3211d5.jpg\"\n",
    "    url_01=\"https://www.collinsdictionary.com/images/full/apple_158989157.jpg\"\n",
    "    #url_01=\"https://cw1.tw/CW/images/article/201710/article-59d741a71874d.jpg\"\n",
    "    my_save_url_img(url_01)\n",
    "    my_imgs_now.append(url_01.split('/')[-1].split('?')[0])  \n",
    "  else:  \n",
    "    print('圖片網址設定成功')\n",
    "    \n",
    "  remove_img=list(enumerate(my_imgs_now[0:]))\n",
    "  for i in remove_img:\n",
    "      img_repeat=i[1]\n",
    "      for ii in remove_img[i[0]+1:]:\n",
    "          if(img_repeat==ii[1]):\n",
    "             my_imgs_now.remove(img_repeat) \n",
    "             break\n",
    "            \n",
    "  print(my_imgs_now) \n",
    "\n",
    "  my_imgs_now_np=[]\n",
    "  my_imgs_now_origin_np=[]\n",
    "  for i in range(0,len(my_imgs_now)):\n",
    "    image = Image.open(download_and_resize_image(path+my_imgs_now[i]))   # image is a PIL image \n",
    "    my_imgs_now_np.append( np.array(image)/255 )\n",
    "    image = Image.open(path+my_imgs_now[i])\n",
    "    my_imgs_now_origin_np.append( np.array(image)/255 )    \n",
    "    \n",
    "\n",
    "def get_image_size(my_img):\n",
    "  im = Image.open(my_img)\n",
    "  return im.size"
   ]
  },
  {
   "cell_type": "markdown",
   "metadata": {
    "id": "HVJ6HYiS5up7"
   },
   "source": [
    "Setting Image"
   ]
  },
  {
   "cell_type": "code",
   "execution_count": null,
   "metadata": {
    "colab": {
     "base_uri": "https://localhost:8080/"
    },
    "id": "s1apCNLvxM2H",
    "outputId": "b0509ec8-9386-4b90-f96d-ddd9053c3257",
    "scrolled": false
   },
   "outputs": [],
   "source": [
    "my_save_img()"
   ]
  },
  {
   "cell_type": "markdown",
   "metadata": {
    "id": "Gw4851sN5zib"
   },
   "source": [
    "Image Completition Setting"
   ]
  },
  {
   "cell_type": "code",
   "execution_count": null,
   "metadata": {
    "colab": {
     "base_uri": "https://localhost:8080/"
    },
    "id": "M5z5x4Wcyh5Y",
    "outputId": "86886a45-7a4c-4134-eafa-75e048f39082"
   },
   "outputs": [],
   "source": [
    "my_imgs_now_np[0].shape"
   ]
  },
  {
   "cell_type": "code",
   "execution_count": null,
   "metadata": {},
   "outputs": [],
   "source": [
    "my_imgs_now_origin_np[0].shape"
   ]
  },
  {
   "cell_type": "markdown",
   "metadata": {
    "id": "f9iyg8C57tML"
   },
   "source": [
    "Model Predict"
   ]
  },
  {
   "cell_type": "code",
   "execution_count": null,
   "metadata": {
    "colab": {
     "base_uri": "https://localhost:8080/",
     "height": 361
    },
    "id": "7GFznBRXx6Ig",
    "outputId": "a3cadedc-7622-4b4d-8ced-91e3324ff7e6"
   },
   "outputs": [],
   "source": [
    "imgPredict(my_imgs_now_np[0],new_model)"
   ]
  },
  {
   "cell_type": "code",
   "execution_count": null,
   "metadata": {},
   "outputs": [],
   "source": [
    "for i in range(0,len(my_imgs_now_np)):\n",
    "    imgPredict(my_imgs_now_np[i],\n",
    "               new_model,\n",
    "               True,\n",
    "               my_imgs_now_origin_np[i]\n",
    "              )"
   ]
  },
  {
   "cell_type": "code",
   "execution_count": null,
   "metadata": {
    "id": "gnDDwzkw00g8"
   },
   "outputs": [],
   "source": [
    "sigModel=new_model.signatures['serving_default']"
   ]
  },
  {
   "cell_type": "code",
   "execution_count": null,
   "metadata": {
    "id": "rBaIU9io1NOk"
   },
   "outputs": [],
   "source": [
    "def sigModelPredict(TestImgNp,myModel,sigOutputName, have_origin_img_np=False , origin_img_np=None ):\n",
    "  global resu , resu_real , resu_real_sort , real_labelval , real_labelval_sort\n",
    "  if(have_origin_img_np):\n",
    "        img_fromArray(origin_img_np,True)\n",
    "  else:\n",
    "    img_fromArray(TestImgNp,True)      \n",
    "  tensorImg=imgTensorNp(TestImgNp)\n",
    "  resu=myModel(tensorImg)\n",
    "  resu_real=np.array([])\n",
    "  real_labelval=np.array([])\n",
    "  resu=resu[sigOutputName].numpy()\n",
    "  for i in range(0,len(resu[0])):\n",
    "    resui=resu[0,i]\n",
    "\n",
    "    predictValue=-100\n",
    "\n",
    "    if(resui>predictValue):\n",
    "      resu_real=np.append(resu_real,resu[0,i])\n",
    "      real_labelval=np.append(real_labelval,i)\n",
    "  resu_real_sort=np.sort(resu_real)\n",
    "  real_labelval_sort=np.zeros(len(real_labelval),dtype=int)\n",
    "  real_labelval=real_labelval.astype('int') \n",
    "\n",
    "  for i in range(0,len(resu_real)):\n",
    "    for ii in range(0,len(resu_real_sort)):\n",
    "      if(resu_real_sort[ii]==resu_real[i]):\n",
    "        real_labelval_sort[ii]=real_labelval[i]\n",
    "  \n",
    "  resu_real_sort=resu_real_sort[::-1]\n",
    "  real_labelval_sort=real_labelval_sort[::-1]\n",
    "\n",
    "  lenght=3\n",
    "\n",
    "  for i in range(0,len(resu_real_sort[0:(lenght)])): \n",
    "\n",
    "    print((i+1),\n",
    "          \"\\n\\n品種:\",cifar100_labels[real_labelval_sort[i]],\n",
    "          \"\\n準確率:\",resu_real_sort[i],\n",
    "          \"\\n編號\",real_labelval_sort[i],\n",
    "          \"\\n\"\n",
    "          )\n",
    "    "
   ]
  },
  {
   "cell_type": "code",
   "execution_count": null,
   "metadata": {
    "colab": {
     "base_uri": "https://localhost:8080/",
     "height": 378
    },
    "id": "EPIWzN4U07Oj",
    "outputId": "544ca50c-7986-44e9-f581-8d49da0a5fe4",
    "scrolled": true
   },
   "outputs": [],
   "source": [
    "sigModelPredict(my_imgs_now_np[0],sigModel,'dense_1')"
   ]
  },
  {
   "cell_type": "markdown",
   "metadata": {
    "id": "M09CpNwk41xi"
   },
   "source": [
    "Using Tensorflow Hub Load \n",
    "\n",
    "Detection With Signatures"
   ]
  },
  {
   "cell_type": "code",
   "execution_count": null,
   "metadata": {
    "id": "ufl865054snb"
   },
   "outputs": [],
   "source": [
    "#!pip install --upgrade tensorflow_hub\n",
    "import tensorflow_hub as hub"
   ]
  },
  {
   "cell_type": "code",
   "execution_count": null,
   "metadata": {
    "id": "Gr_DWild4-wL"
   },
   "outputs": [],
   "source": [
    "hub_model_load = hub.load(model_path)"
   ]
  },
  {
   "cell_type": "code",
   "execution_count": null,
   "metadata": {
    "id": "fpv219gb5ObU"
   },
   "outputs": [],
   "source": [
    "detector=hub_model_load.signatures['serving_default']"
   ]
  },
  {
   "cell_type": "code",
   "execution_count": null,
   "metadata": {
    "colab": {
     "base_uri": "https://localhost:8080/",
     "height": 378
    },
    "id": "IZ3voEjj5l5r",
    "outputId": "fefb622d-be40-4bcf-a064-d876c258805a"
   },
   "outputs": [],
   "source": [
    "sigModelPredict(my_imgs_now_np[0],detector,'dense_1')"
   ]
  },
  {
   "cell_type": "code",
   "execution_count": null,
   "metadata": {},
   "outputs": [],
   "source": [
    "for i in range(0,len(my_imgs_now_np)):\n",
    "    imgPredict(my_imgs_now_np[i],\n",
    "               new_model,\n",
    "               True,\n",
    "               my_imgs_now_origin_np[i]\n",
    "              )"
   ]
  },
  {
   "cell_type": "code",
   "execution_count": null,
   "metadata": {},
   "outputs": [],
   "source": []
  }
 ],
 "metadata": {
  "accelerator": "GPU",
  "colab": {
   "collapsed_sections": [],
   "name": "Cifar100_CNN_Image_Classification_CategoricalCrossentropy.ipynb",
   "provenance": []
  },
  "kernelspec": {
   "display_name": "Python 3 (ipykernel)",
   "language": "python",
   "name": "python3"
  },
  "language_info": {
   "codemirror_mode": {
    "name": "ipython",
    "version": 3
   },
   "file_extension": ".py",
   "mimetype": "text/x-python",
   "name": "python",
   "nbconvert_exporter": "python",
   "pygments_lexer": "ipython3",
   "version": "3.9.7"
  }
 },
 "nbformat": 4,
 "nbformat_minor": 1
}
