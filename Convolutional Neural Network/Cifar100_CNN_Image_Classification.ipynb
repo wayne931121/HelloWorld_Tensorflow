{
 "cells": [
  {
   "cell_type": "markdown",
   "metadata": {
    "id": "GFLag2HxGO3n"
   },
   "source": [
    "**參考網站：**\n",
    "\n",
    "***https://www.tensorflow.org/tutorials/images/cnn***\n",
    "\n",
    "***https://www.tensorflow.org/tutorials/keras/save_and_load***\n"
   ]
  },
  {
   "cell_type": "code",
   "execution_count": null,
   "metadata": {
    "id": "sydJc0GzmbmQ"
   },
   "outputs": [],
   "source": [
    "import tensorflow as tf\n",
    "\n",
    "import os\n",
    "from tensorflow.keras import datasets, layers, models ,backend, callbacks\n",
    "import matplotlib.pyplot as plt\n",
    "from PIL import Image\n",
    "from PIL import ImageColor\n",
    "from PIL import ImageDraw\n",
    "from PIL import ImageFont\n",
    "from PIL import ImageOps\n",
    "from IPython.display import display as ds\n",
    "import time\n",
    "import numpy as np\n",
    "import tempfile\n",
    "import pathlib\n",
    "import requests\n",
    "import shutil\n",
    "from lxml import etree"
   ]
  },
  {
   "cell_type": "code",
   "execution_count": null,
   "metadata": {},
   "outputs": [],
   "source": [
    "import ssl\n",
    "ssl._create_default_https_context = ssl._create_unverified_context"
   ]
  },
  {
   "cell_type": "code",
   "execution_count": null,
   "metadata": {},
   "outputs": [],
   "source": [
    "path =  os.getcwd() \n",
    "\n",
    "if(not os.path.exists(path+r\"\\images\")):\n",
    "   os.mkdir(\"images\")\n",
    "\n",
    "path=path.replace(\"\\\\\", \"/\")\n",
    "\n",
    "path=path+\"/images/\"\n",
    "\n",
    "print( path )"
   ]
  },
  {
   "cell_type": "markdown",
   "metadata": {
    "id": "A19UdmCFw7ye"
   },
   "source": [
    "Start Cifar100 CNN Model Test"
   ]
  },
  {
   "cell_type": "code",
   "execution_count": null,
   "metadata": {
    "id": "9_n72sfQ2mNK"
   },
   "outputs": [],
   "source": [
    "cifar100_labels = ['apple', 'aquarium_fish', 'baby', 'bear', 'beaver', 'bed', 'bee', 'beetle', 'bicycle', 'bottle', 'bowl', 'boy', 'bridge', 'bus', 'butterfly', 'camel', 'can', 'castle', 'caterpillar', 'cattle', 'chair', 'chimpanzee', 'clock', 'cloud', 'cockroach', 'couch', 'crab', 'crocodile', 'cup', 'dinosaur', 'dolphin', 'elephant', 'flatfish', 'forest', 'fox', 'girl', 'hamster', 'house', 'kangaroo', 'keyboard', 'lamp', 'lawn_mower', 'leopard', 'lion', 'lizard', 'lobster', 'man', 'maple_tree', 'motorcycle', 'mountain', 'mouse', 'mushroom', 'oak_tree', 'orange', 'orchid', 'otter', 'palm_tree', 'pear', 'pickup_truck', 'pine_tree', 'plain', 'plate', 'poppy', 'porcupine', 'possum', 'rabbit', 'raccoon', 'ray', 'road', 'rocket', 'rose', 'sea', 'seal', 'shark', 'shrew', 'skunk', 'skyscraper', 'snail', 'snake', 'spider', 'squirrel', 'streetcar', 'sunflower', 'sweet_pepper', 'table', 'tank', 'telephone', 'television', 'tiger', 'tractor', 'train', 'trout', 'tulip', 'turtle', 'wardrobe', 'whale', 'willow_tree', 'wolf', 'woman', 'worm']"
   ]
  },
  {
   "cell_type": "code",
   "execution_count": null,
   "metadata": {
    "colab": {
     "base_uri": "https://localhost:8080/"
    },
    "id": "5XqrGA8o-p3i",
    "outputId": "6f944dd0-0c98-4356-f0b8-62b8263a886f"
   },
   "outputs": [],
   "source": [
    "print(\"Num GPUs Available: \", len(tf.config.list_physical_devices('GPU')))"
   ]
  },
  {
   "cell_type": "code",
   "execution_count": null,
   "metadata": {
    "id": "FCB8JSqi-t7K"
   },
   "outputs": [],
   "source": [
    "(train_images, train_labels), (test_images, test_labels) = datasets.cifar100.load_data()\n",
    "\n",
    "# Normalize pixel values to be between 0 and 1\n",
    "train_images, test_images = train_images / 255.0, test_images / 255.0"
   ]
  },
  {
   "cell_type": "code",
   "execution_count": null,
   "metadata": {
    "id": "auj0fv00IYDd"
   },
   "outputs": [],
   "source": [
    "backend.clear_session()\n",
    "\n",
    "model = models.Sequential()\n",
    "\n",
    "model.add(layers.Conv2D(32, (3, 3), activation='relu', input_shape=(32, 32, 3)))\n",
    "\n",
    "model.add(layers.Conv2D(64, (3, 3), activation='relu'))\n",
    "model.add(layers.Dropout(0.2))\n",
    "model.add(layers.MaxPooling2D((2, 2)))\n",
    "\n",
    "model.add(layers.Conv2D(128, (3, 3), activation='relu'))\n",
    "model.add(layers.Dropout(0.2))\n",
    "model.add(layers.MaxPooling2D((2,2)))\n",
    "\n",
    "model.add(layers.Conv2D(256, (3, 3), activation='relu'))\n",
    "model.add(layers.Dropout(0.2))\n",
    "model.add(layers.MaxPooling2D((2,2)))\n",
    "\n",
    "model.add(layers.Conv2D(512, (1, 1), activation='relu'))\n",
    "\n",
    "\n",
    "model.add(layers.Flatten())\n",
    "model.add(layers.Dense(512, activation='relu'))\n",
    "model.add(layers.Dense(100))\n",
    "#model.summary()"
   ]
  },
  {
   "cell_type": "code",
   "execution_count": null,
   "metadata": {
    "colab": {
     "base_uri": "https://localhost:8080/"
    },
    "id": "pBJ8weDlGay1",
    "outputId": "e57d392e-53f1-469d-c3c0-71036cf0cd11"
   },
   "outputs": [],
   "source": [
    "es = callbacks.EarlyStopping(monitor='val_loss', mode='min', verbose=1, patience=3)\n",
    "\n",
    "model.compile(optimizer='adam',\n",
    "              loss=tf.keras.losses.SparseCategoricalCrossentropy(from_logits=True),\n",
    "              metrics=['accuracy'])\n",
    "\n",
    "history = model.fit(train_images, train_labels,batch_size=700,\n",
    "                    epochs=50, \n",
    "                    validation_data=(test_images, test_labels),\n",
    "                   callbacks=[es])"
   ]
  },
  {
   "cell_type": "code",
   "execution_count": null,
   "metadata": {
    "colab": {
     "base_uri": "https://localhost:8080/",
     "height": 301
    },
    "id": "MUJc_jrL_iCC",
    "outputId": "e453bfea-b9a4-45f2-8449-2eebf8dc0ca5"
   },
   "outputs": [],
   "source": [
    "plt.plot(history.history['accuracy'], label='accuracy')\n",
    "plt.plot(history.history['val_accuracy'], label = 'val_accuracy')\n",
    "plt.xlabel('Epoch')\n",
    "plt.ylabel('Accuracy')\n",
    "plt.ylim([0, 1])\n",
    "plt.legend(loc='lower right')\n",
    "\n",
    "test_loss, test_acc = model.evaluate(test_images,  test_labels, verbose=2)"
   ]
  },
  {
   "cell_type": "code",
   "execution_count": null,
   "metadata": {
    "id": "B01_rrMSM4FF"
   },
   "outputs": [],
   "source": [
    "history.history"
   ]
  },
  {
   "cell_type": "code",
   "execution_count": null,
   "metadata": {
    "colab": {
     "base_uri": "https://localhost:8080/"
    },
    "id": "Vu41QiIrAKYU",
    "outputId": "bc950d65-617e-4787-b75b-e8d79bfabe59"
   },
   "outputs": [],
   "source": [
    "print(test_acc)"
   ]
  },
  {
   "cell_type": "code",
   "execution_count": null,
   "metadata": {
    "colab": {
     "base_uri": "https://localhost:8080/"
    },
    "id": "tngNwKLgaVYV",
    "outputId": "5fc247b0-3e39-490e-ee84-346c04c8933e"
   },
   "outputs": [],
   "source": [
    "test_images.shape"
   ]
  },
  {
   "cell_type": "code",
   "execution_count": null,
   "metadata": {
    "id": "-OfgW-TWIVnF"
   },
   "outputs": [],
   "source": [
    "def img_fromArray(imgArr,view=True):  \n",
    "  imgFromArr=Image.fromarray(np.uint8(imgArr*255))\n",
    "  if(view):\n",
    "    ds(imgFromArr)\n",
    "  return imgFromArr   "
   ]
  },
  {
   "cell_type": "code",
   "execution_count": null,
   "metadata": {
    "id": "ZLr6DrBfysKN"
   },
   "outputs": [],
   "source": [
    "def imgTensorNp(imgnp):\n",
    "    return tf.image.convert_image_dtype(np.array([imgnp]), tf.float32)"
   ]
  },
  {
   "cell_type": "code",
   "execution_count": null,
   "metadata": {
    "id": "uUP9i4PdSuFn"
   },
   "outputs": [],
   "source": [
    "resu , resu_real , resu_real_sort , real_labelval , real_labelval_sort = 0,0,0,0,0"
   ]
  },
  {
   "cell_type": "code",
   "execution_count": null,
   "metadata": {
    "id": "91ktYVZJoUIM"
   },
   "outputs": [],
   "source": [
    "def imgPredict(TestImgNp,myModel,have_origin_img_np=False,origin_img_np=None):\n",
    "  global resu , resu_real , resu_real_sort , real_labelval , real_labelval_sort\n",
    "  if(have_origin_img_np):\n",
    "        img_fromArray(origin_img_np,True)\n",
    "  else:\n",
    "    img_fromArray(TestImgNp,True)\n",
    "  tensorImg=imgTensorNp(TestImgNp)\n",
    "  resu=myModel.predict(tensorImg)\n",
    "  resu_real=np.array([])\n",
    "  real_labelval=np.array([])\n",
    "\n",
    "  for i in range(0,len(resu[0])):\n",
    "    resui=resu[0,i]\n",
    "\n",
    "    predictValue=-100\n",
    "\n",
    "    if(resui>predictValue):\n",
    "      resu_real=np.append(resu_real,resu[0,i])\n",
    "      real_labelval=np.append(real_labelval,i)\n",
    "  resu_real_sort=np.sort(resu_real)\n",
    "  real_labelval_sort=np.zeros(len(real_labelval),dtype=int)\n",
    "  real_labelval=real_labelval.astype('int') \n",
    "\n",
    "  for i in range(0,len(resu_real)):\n",
    "    for ii in range(0,len(resu_real_sort)):\n",
    "      if(resu_real_sort[ii]==resu_real[i]):\n",
    "        real_labelval_sort[ii]=real_labelval[i]\n",
    "  \n",
    "  resu_real_sort=resu_real_sort[::-1]\n",
    "  real_labelval_sort=real_labelval_sort[::-1]\n",
    "\n",
    "  lenght=3\n",
    "\n",
    "  for i in range(0,len(resu_real_sort[0:(lenght)])): \n",
    "\n",
    "    print((i+1),\n",
    "          \"\\n\\n品種:\",cifar100_labels[real_labelval_sort[i]],\n",
    "          \"\\n準確率:\",resu_real_sort[i],\n",
    "          \"\\n編號\",real_labelval_sort[i],\n",
    "          \"\\n\"\n",
    "          )\n",
    "    "
   ]
  },
  {
   "cell_type": "code",
   "execution_count": null,
   "metadata": {
    "id": "Lvmu8bSrRRFy"
   },
   "outputs": [],
   "source": [
    "model_path=path+\"my_model\""
   ]
  },
  {
   "cell_type": "code",
   "execution_count": null,
   "metadata": {
    "colab": {
     "base_uri": "https://localhost:8080/"
    },
    "id": "wP3zmeZwRXDA",
    "outputId": "42ed0bdc-faba-48aa-ccb3-62426637ecc7"
   },
   "outputs": [],
   "source": [
    "model.save(model_path)"
   ]
  },
  {
   "cell_type": "code",
   "execution_count": null,
   "metadata": {
    "id": "mgcft5ImMabu"
   },
   "outputs": [],
   "source": [
    "new_model = tf.keras.models.load_model(model_path)"
   ]
  },
  {
   "cell_type": "code",
   "execution_count": null,
   "metadata": {
    "id": "gf5iyak0NCj3"
   },
   "outputs": [],
   "source": [
    "dir(new_model)"
   ]
  },
  {
   "cell_type": "code",
   "execution_count": null,
   "metadata": {
    "id": "JuGc09WeS1kX"
   },
   "outputs": [],
   "source": [
    "def download_and_resize_image(url, new_width=32, new_height=32,display=False):\n",
    "  _, filename = tempfile.mkstemp(suffix=\".jpg\")\n",
    "  #response = urlopen(url)\n",
    "  #image_data = response.read()\n",
    "  #image_data = BytesIO(image_data)\n",
    "  image_data = url\n",
    "  new_width1=int(new_width) \n",
    "  new_height1=int(new_height) \n",
    "  pil_image = Image.open(image_data)\n",
    "  pil_image = ImageOps.fit(pil_image,(32,32), Image.ANTIALIAS)\n",
    "  pil_image_rgb = pil_image.convert(\"RGB\")\n",
    "  pil_image_rgb.save(filename, format=\"JPEG\", quality=100)\n",
    "  print(\"Image downloaded to %s.\" % filename)\n",
    "  if display:\n",
    "    display_image(pil_image)\n",
    "  return filename"
   ]
  },
  {
   "cell_type": "code",
   "execution_count": null,
   "metadata": {
    "colab": {
     "base_uri": "https://localhost:8080/",
     "height": 396
    },
    "id": "8Pvmi2L1UOpm",
    "outputId": "ab9694e5-ec72-4797-a79f-9ab6089618fa"
   },
   "outputs": [],
   "source": [
    "imgNum=650\n",
    "imgPredict(test_images[imgNum],new_model)\n",
    "print(\"Real Value : \"+cifar100_labels[test_labels[imgNum,0]]+\" at \"+str(test_labels[imgNum,0]))"
   ]
  },
  {
   "cell_type": "code",
   "execution_count": null,
   "metadata": {},
   "outputs": [],
   "source": [
    "path"
   ]
  },
  {
   "cell_type": "code",
   "execution_count": null,
   "metadata": {},
   "outputs": [],
   "source": [
    "my_imgs_now=[]\n",
    "dirPath = os.walk(path)\n",
    "img_dir_path=list(dirPath)[0][2]\n",
    "for i in img_dir_path:\n",
    "    if(i.split('.')[-1]==\"jpg\"):\n",
    "        my_imgs_now.append(i)\n",
    "#list(enumerate(dirPath))[0]"
   ]
  },
  {
   "cell_type": "code",
   "execution_count": null,
   "metadata": {
    "id": "pbPRQEHhxHhY"
   },
   "outputs": [],
   "source": [
    "def get_correct_url(base_url,part_url):\n",
    "  if(part_url.split('/')[0].find('http')==-1):\n",
    "    if(part_url.split('/')[0]==''):\n",
    "      if(part_url.split('/')[0]==''):\n",
    "        if(part_url.split('/')[1]==''):\n",
    "          if(part_url.split('/')[2]==base_url.split('/')[2]):\n",
    "            return \"http:\"+part_url\n",
    "          else:\n",
    "            pass  \n",
    "        else:\n",
    "          if(part_url.split('/')[1]==base_url.split('/')[2]):\n",
    "            return \"http:/\"+part_url\n",
    "          else:\n",
    "            return \"http://\"+base_url.split(\"/\")[2]+part_url \n",
    "      else:  \n",
    "        return \"http://\"+base_url.split(\"/\")[2]+\"/\"+part_url \n",
    "    else:\n",
    "      return \"http://\"+base_url.split(\"/\")[2]+\"/\"+part_url       \n",
    "\n",
    "  else:\n",
    "    return part_url\n",
    "\n",
    "\n",
    "def png_to_jpg(my_img_name):\n",
    "  im = Image.open(path+my_img_name)\n",
    "  rgb_im = im.convert('RGB')\n",
    "  rgb_im.save(path+my_img_name+\".jpg\")\n",
    "\n",
    "def my_save_img():\n",
    "  global my_imgs_now\n",
    "  def my_save_url_img(my_img_url): \n",
    "    headers = {\"User-Agent\":\"Mozilla/5.0 (Windows NT 10.0; Win64; x64) AppleWebKit/537.36 (KHTML, like Gecko) Chrome/67.0.3396.99 Safari/537.36\"}\n",
    "    r = requests.get(my_img_url,headers=headers, stream=True)\n",
    "    if r.status_code == 200:\n",
    "        with open(str((path+my_img_url.split('/')[-1].split('?')[0])), 'wb') as f:\n",
    "            r.raw.decode_content = True\n",
    "            shutil.copyfileobj(r.raw, f)\n",
    "\n",
    "  url_01=input(\"請輸入圖片網址：\")\n",
    "  url_01_type=url_01.split('/')[-1].split('.')[-1].split('?')[0]\n",
    "\n",
    "  \n",
    "  if(url_01_type=='jpg'):\n",
    "    my_save_url_img(url_01)\n",
    "    my_imgs_now.append(url_01.split('/')[-1].split('?')[0])\n",
    "  \n",
    "  elif(url_01_type=='png'):\n",
    "    my_save_url_img(url_01)\n",
    "    my_imgs_now.append(url_01.split('/')[-1].split('?')[0]+\".jpg\")\n",
    "    png_to_jpg(url_01.split('/')[-1].split('?')[0])\n",
    "\n",
    "  else:\n",
    "    try:\n",
    "      #response.status_code,response.content,response.text\n",
    "      headers = {\"User-Agent\":\"Mozilla/5.0 (Windows NT 10.0; Win64; x64) AppleWebKit/537.36 (KHTML, like Gecko) Chrome/67.0.3396.99 Safari/537.36\"}\n",
    "      my_response = requests.get(url_01,headers=headers)\n",
    "      my_content = my_response.content.decode()\n",
    "      my_html = etree.HTML(my_content)\n",
    "      my_imgs = my_html.xpath('.//img/@src')\n",
    "      print(my_imgs,\"\\n\")\n",
    "      for i in my_imgs:\n",
    "        try:\n",
    "          if(i.split('/')[-1].split('.')[-1].split('?')[0]=='png'):\n",
    "            #change this line\n",
    "            my_save_url_img(get_correct_url(url_01,i))\n",
    "            my_imgs_now.append(i.split('/')[-1].split('?')[0]+\".jpg\")\n",
    "            png_to_jpg(i.split('/')[-1].split('?')[0])\n",
    "          elif(i.split('/')[-1].split('.')[-1].split('?')[0]=='jpg'):\n",
    "            #change this line\n",
    "            my_save_url_img(get_correct_url(url_01,i))\n",
    "            my_imgs_now.append(i.split('/')[-1].split('?')[0])    \n",
    "        except:\n",
    "          pass\n",
    "    except:\n",
    "      pass  \n",
    "\n",
    "\n",
    "  if(len(my_imgs_now)==0 or url_01==''):\n",
    "    print('圖片網址設定失敗，使用預設圖片')\n",
    "    url_01=\"https://64.media.tumblr.com/464a8a1770ac6b2c09c80232911673b7/b6713c87a0ba23de-b6/s1280x1920/0306a7f325e1c10e768a26ac2e1ea805ad3211d5.jpg\"\n",
    "    url_01=\"https://www.collinsdictionary.com/images/full/apple_158989157.jpg\"\n",
    "    my_save_url_img(url_01)\n",
    "    my_imgs_now.append(url_01.split('/')[-1].split('?')[0])  \n",
    "  else:  \n",
    "    print('圖片網址設定成功')\n",
    "\n",
    "def get_image_size(my_img):\n",
    "  im = Image.open(my_img)\n",
    "  return im.size"
   ]
  },
  {
   "cell_type": "code",
   "execution_count": null,
   "metadata": {
    "colab": {
     "base_uri": "https://localhost:8080/"
    },
    "id": "s1apCNLvxM2H",
    "outputId": "9bf656c2-3745-4a22-962c-7328004be954"
   },
   "outputs": [],
   "source": [
    "my_save_img()\n",
    "\n",
    "remove_img=list(enumerate(my_imgs_now[0:]))\n",
    "for i in remove_img:\n",
    "    img_repeat=i[1]\n",
    "    for ii in remove_img[i[0]+1:]:\n",
    "        if(img_repeat==ii[1]):\n",
    "            my_imgs_now.remove(img_repeat) \n",
    "            break\n",
    "            \n",
    "print(my_imgs_now) \n",
    "\n",
    "my_imgs_now_np=[]\n",
    "my_imgs_now_origin_np=[]\n",
    "for i in range(0,len(my_imgs_now)):\n",
    "  image = Image.open(download_and_resize_image(path+my_imgs_now[i]))   # image is a PIL image \n",
    "  my_imgs_now_np.append( np.array(image)/255 )\n",
    "  image = Image.open(path+my_imgs_now[i])\n",
    "  my_imgs_now_origin_np.append( np.array(image)/255 )"
   ]
  },
  {
   "cell_type": "code",
   "execution_count": null,
   "metadata": {
    "colab": {
     "base_uri": "https://localhost:8080/"
    },
    "id": "M5z5x4Wcyh5Y",
    "outputId": "50fedbcf-5eef-4b47-f7e4-0988672bd6ff"
   },
   "outputs": [],
   "source": [
    "my_imgs_now_np[0].shape"
   ]
  },
  {
   "cell_type": "code",
   "execution_count": null,
   "metadata": {
    "colab": {
     "base_uri": "https://localhost:8080/",
     "height": 378
    },
    "id": "7GFznBRXx6Ig",
    "outputId": "632906d3-d080-4b7d-8b36-6b16fb43ef10"
   },
   "outputs": [],
   "source": [
    "for i in range(0,len(my_imgs_now_np)):\n",
    "    imgPredict(my_imgs_now_np[i],\n",
    "               new_model,\n",
    "               True,\n",
    "               my_imgs_now_origin_np[i]\n",
    "              )"
   ]
  },
  {
   "cell_type": "code",
   "execution_count": null,
   "metadata": {},
   "outputs": [],
   "source": []
  }
 ],
 "metadata": {
  "accelerator": "GPU",
  "colab": {
   "collapsed_sections": [],
   "name": "Cifar100_CNN_Image_Classification.ipynb",
   "provenance": []
  },
  "kernelspec": {
   "display_name": "Python 3 (ipykernel)",
   "language": "python",
   "name": "python3"
  },
  "language_info": {
   "codemirror_mode": {
    "name": "ipython",
    "version": 3
   },
   "file_extension": ".py",
   "mimetype": "text/x-python",
   "name": "python",
   "nbconvert_exporter": "python",
   "pygments_lexer": "ipython3",
   "version": "3.9.7"
  }
 },
 "nbformat": 4,
 "nbformat_minor": 1
}
