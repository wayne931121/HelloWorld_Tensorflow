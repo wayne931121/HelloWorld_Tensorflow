{
  "nbformat": 4,
  "nbformat_minor": 0,
  "metadata": {
    "colab": {
      "name": "Google_image_dataset.ipynb",
      "provenance": [],
      "collapsed_sections": []
    },
    "kernelspec": {
      "name": "python3",
      "display_name": "Python 3"
    },
    "language_info": {
      "name": "python"
    }
  },
  "cells": [
    {
      "cell_type": "markdown",
      "source": [
        "# **This will take about 10 minutes.**\n",
        "\n",
        "# **You Can Drink Coffe For A While.**"
      ],
      "metadata": {
        "id": "UAjng2FqtpC9"
      }
    },
    {
      "cell_type": "markdown",
      "source": [
        "**# Please run in Colab**"
      ],
      "metadata": {
        "id": "3WeRNi9Mqx_F"
      }
    },
    {
      "cell_type": "code",
      "execution_count": null,
      "metadata": {
        "id": "OynBX0Q4wZNR"
      },
      "outputs": [],
      "source": [
        "!pip install fiftyone\n",
        "!pip uninstall opencv-python -y\n",
        "!pip install opencv-python"
      ]
    },
    {
      "cell_type": "markdown",
      "source": [
        "# **開始下載資料**"
      ],
      "metadata": {
        "id": "RmQbRtTyFArs"
      }
    },
    {
      "cell_type": "code",
      "source": [
        "import fiftyone as fo\n",
        "import sys, gc, os\n",
        "import psutil\n",
        "import time"
      ],
      "metadata": {
        "id": "L1J97R1IyQot"
      },
      "execution_count": null,
      "outputs": []
    },
    {
      "cell_type": "code",
      "source": [
        "def ram():\n",
        "  # result format is psutil.virtual_memory()\n",
        "  result = psutil.virtual_memory()\n",
        "\n",
        "  #     0    1       \"2\" ...\n",
        "  name = ['Total', 'Available', 'Percent', 'Used', 'Free', 'Active', 'Inactive', 'Buffers', 'Cached', 'Shared', 'Slab']\n",
        "  now_size=[]\n",
        "  for i,i1 in zip(name, result):\n",
        "    try:\n",
        "      if(i==\"Percent\"):\n",
        "        i1=format(i1,'.3f')\n",
        "        print(\"{} : {:>2} %\".format(i, i1)) \n",
        "      else:  \n",
        "        print(\"{} : {:>2}\".format(i, get_size(i1)))\n",
        "    except Exception as e:\n",
        "      print(e)      \n",
        "\n",
        "def get_size(bytes_size):\n",
        "  # Input is bytes\n",
        "  byte=bytes_size\n",
        "  out=0\n",
        "  size = [\"bytes\", \"KB\", \"MB\", \"GB\", \"TB\"]\n",
        "  for i in range(0,len(size)):\n",
        "    byte=byte/1024\n",
        "    if(abs(byte) < 1 ) :\n",
        "      out=\"{:.3f} {}\".format(byte*1024 ,size[i])\n",
        "      break\n",
        "  if(out==0):\n",
        "     out=\"{:.3f} {}\".format(bytes_size/(1024**4) ,size[4])    \n",
        "  return out       "
      ],
      "metadata": {
        "id": "IjtDncRxfIyL"
      },
      "execution_count": null,
      "outputs": []
    },
    {
      "cell_type": "code",
      "source": [
        "def count_time(fun1):\n",
        "\n",
        "  def wrapper_function(*args, **kwargs):\n",
        "\n",
        "    start_time = time.time()\n",
        "    fun1_result=fun1(*args, **kwargs)\n",
        "    start_time = time.time()-start_time\n",
        "    times = ['ms', 's', 'Minutes', 'Hour']\n",
        "    time_count = 0\n",
        "\n",
        "    if(start_time<1):\n",
        "      start_time*=1000\n",
        "    else:\n",
        "      time_count+=1\n",
        "      while (start_time>=1 and time_count<len(times) ):\n",
        "        start_time/=60\n",
        "        time_count+=1\n",
        "      start_time*=60  \n",
        "      time_count-=1\n",
        "\n",
        "    start_time = str(format(start_time ,'.3f'))+\" \"+times[time_count]\n",
        "    print(start_time)\n",
        "    return fun1_result\n",
        "  return wrapper_function"
      ],
      "metadata": {
        "id": "VATpkWEaguUJ"
      },
      "execution_count": null,
      "outputs": []
    },
    {
      "cell_type": "code",
      "source": [
        "@count_time\n",
        "def get_open_images(label_type,split_type,my_class,max_values):\n",
        "  dataset = fo.zoo.load_zoo_dataset(\n",
        "              \"open-images-v6\",\n",
        "              split=split_type,\n",
        "              label_types=[label_type],\n",
        "              classes=[my_class],\n",
        "              max_samples=max_values,\n",
        "          )\n",
        "\"\"\"\n",
        "Copied on https://storage.googleapis.com/openimages/web/download.html\n",
        "\n",
        "dataset = fiftyone.zoo.load_zoo_dataset(\n",
        "              \"open-images-v6\",\n",
        "              split=\"validation\",\n",
        "              label_types=[\"detections\", \"segmentations\"],\n",
        "              classes=[\"Cat\", \"Dog\"],\n",
        "              max_samples=100,\n",
        "          )\n",
        "\"\"\""
      ],
      "metadata": {
        "id": "QCDVvgZZxpUf"
      },
      "execution_count": null,
      "outputs": []
    },
    {
      "cell_type": "code",
      "source": [
        "get_open_images(\"detections\",\"train\",\"Cat\",100)"
      ],
      "metadata": {
        "id": "oEi7dQaJy0tO"
      },
      "execution_count": null,
      "outputs": []
    },
    {
      "cell_type": "code",
      "source": [
        "del fo"
      ],
      "metadata": {
        "id": "q6OGu4j-Nkdo"
      },
      "execution_count": null,
      "outputs": []
    },
    {
      "cell_type": "code",
      "source": [
        "ram()"
      ],
      "metadata": {
        "id": "jALfiwCOgRPA"
      },
      "execution_count": null,
      "outputs": []
    },
    {
      "cell_type": "markdown",
      "source": [
        "# **開始處理資料**"
      ],
      "metadata": {
        "id": "EeCm58H3ORkB"
      }
    },
    {
      "cell_type": "code",
      "source": [
        "file_names=None\n",
        "\n",
        "# 指定要列出所有檔案的目錄\n",
        "mypath = \"/root/fiftyone/open-images-v6/train/data\"\n",
        "\n",
        "for dirPath, dirNames, fileNames in os.walk(mypath):\n",
        "    file_names=fileNames\n",
        "\n",
        "for i in range(0,len(file_names)):\n",
        "  file_names[i] = file_names[i].split('.')[0]    "
      ],
      "metadata": {
        "id": "iz104XqEOWfI"
      },
      "execution_count": null,
      "outputs": []
    },
    {
      "cell_type": "code",
      "source": [
        "def view_file(nam):\n",
        "  with open(nam) as infile:  \n",
        "    i = 0\n",
        "    for line in infile:   \n",
        "      print(line)\n",
        "      if(i==2):\n",
        "        break\n",
        "      i+=1  "
      ],
      "metadata": {
        "id": "QEOIRlaOKJ8K"
      },
      "execution_count": null,
      "outputs": []
    },
    {
      "cell_type": "code",
      "source": [
        "view_file('/root/fiftyone/open-images-v6/train/labels/detections.csv')"
      ],
      "metadata": {
        "id": "OSPdQHwWR1AW"
      },
      "execution_count": null,
      "outputs": []
    },
    {
      "cell_type": "code",
      "source": [
        "view_file('/root/fiftyone/open-images-v6/train/metadata/classes.csv')"
      ],
      "metadata": {
        "id": "caTXE5gHSdlX"
      },
      "execution_count": null,
      "outputs": []
    },
    {
      "cell_type": "code",
      "source": [
        "view_file('/root/fiftyone/open-images-v6/train/metadata/image_ids.csv')"
      ],
      "metadata": {
        "id": "A8ZOefQ5SsuW"
      },
      "execution_count": null,
      "outputs": []
    },
    {
      "cell_type": "code",
      "source": [
        "csv_class = None\n",
        "class_content = []\n",
        "with open('/root/fiftyone/open-images-v6/train/metadata/classes.csv') as infile:  \n",
        "   for i in infile:\n",
        "     class_content.append(i.split('\\n')[0].split(','))"
      ],
      "metadata": {
        "id": "FPiG95RPWqPt"
      },
      "execution_count": null,
      "outputs": []
    },
    {
      "cell_type": "code",
      "source": [
        "for i in class_content:\n",
        "  if(i[1]=='Cat'):\n",
        "    print(i[0])\n",
        "    break"
      ],
      "metadata": {
        "id": "IeoxG_llXfBb"
      },
      "execution_count": null,
      "outputs": []
    },
    {
      "cell_type": "code",
      "source": [
        "csv_column = None\n",
        "csv_content = []\n",
        "with open('/root/fiftyone/open-images-v6/train/labels/detections.csv') as infile:  \n",
        "  i = 0\n",
        "  line = iter(infile)\n",
        "  csv_column = next(line).split('\\n')[0].split(',')\n",
        "  print(csv_column)\n",
        "  try: \n",
        "    while True:\n",
        "      con = next(line).split('\\n')[0].split(',')\n",
        "\n",
        "      if( (con[0] in file_names) and (con[2]=='/m/01yrx') ):\n",
        "        csv_content.append([con[0], con[2], con[4], con[5], con[6], con[7]])      \n",
        "  except:\n",
        "    pass    "
      ],
      "metadata": {
        "id": "Hyd2HvvDmQsk"
      },
      "execution_count": null,
      "outputs": []
    },
    {
      "cell_type": "code",
      "source": [
        "csv_content"
      ],
      "metadata": {
        "id": "cuGmTbDbU81-"
      },
      "execution_count": null,
      "outputs": []
    },
    {
      "cell_type": "code",
      "source": [
        "gc.collect()"
      ],
      "metadata": {
        "id": "tZdFLWx5ryDm"
      },
      "execution_count": null,
      "outputs": []
    },
    {
      "cell_type": "markdown",
      "source": [
        "Process datas"
      ],
      "metadata": {
        "id": "ozLFJoL2jjRw"
      }
    },
    {
      "cell_type": "code",
      "source": [
        "!pwd"
      ],
      "metadata": {
        "id": "DSAfwB5NxRP9"
      },
      "execution_count": null,
      "outputs": []
    },
    {
      "cell_type": "code",
      "source": [
        "from PIL import Image\n",
        "from PIL import ImageColor\n",
        "from PIL import ImageDraw\n",
        "from PIL import ImageFont\n",
        "from PIL import ImageOps\n",
        "from IPython.display import display as ds\n",
        "import numpy as np"
      ],
      "metadata": {
        "id": "L6_093iuyMd9"
      },
      "execution_count": null,
      "outputs": []
    },
    {
      "cell_type": "code",
      "source": [
        "def draw_bounding_box_on_image(image,\n",
        "                               xmin,\n",
        "                               xmax,\n",
        "                               ymin,\n",
        "                               ymax,\n",
        "                               color,\n",
        "                               font,\n",
        "                               thickness=4,\n",
        "                               display_str_list=()):\n",
        "  \"\"\"Adds a bounding box to an image.\"\"\"\n",
        "  draw = ImageDraw.Draw(image)\n",
        "  im_width, im_height = image.size\n",
        "  (left, right, top, bottom) = (xmin * im_width, xmax * im_width,\n",
        "                                ymin * im_height, ymax * im_height)\n",
        "  draw.line([(left, top), (left, bottom), (right, bottom), (right, top),\n",
        "             (left, top)],\n",
        "            width=thickness,\n",
        "            fill=color)\n",
        "\n",
        "  # If the total height of the display strings added to the top of the bounding\n",
        "  # box exceeds the top of the image, stack the strings below the bounding box\n",
        "  # instead of above.\n",
        "  display_str_heights = [font.getsize(ds)[1] for ds in display_str_list]\n",
        "  # Each display_str has a top and bottom margin of 0.05x.\n",
        "  total_display_str_height = (1 + 2 * 0.05) * sum(display_str_heights)\n",
        "\n",
        "  if top > total_display_str_height:\n",
        "    text_bottom = top\n",
        "  else:\n",
        "    text_bottom = top + total_display_str_height\n",
        "  # Reverse list and print from bottom to top.\n",
        "  for display_str in display_str_list[::-1]:\n",
        "    text_width, text_height = font.getsize(display_str)\n",
        "    margin = np.ceil(0.05 * text_height)\n",
        "    draw.rectangle([(left, text_bottom - text_height - 2 * margin),\n",
        "                    (left + text_width, text_bottom)],\n",
        "                   fill=color)\n",
        "    draw.text((left + margin, text_bottom - text_height - margin),\n",
        "              display_str,\n",
        "              fill=\"black\",\n",
        "              font=font)\n",
        "    text_bottom -= text_height - 2 * margin\n",
        "  return image  \n",
        " \n",
        "def draw_boxes(\n",
        "     image, \n",
        "     class_names, \n",
        "     xmin,\n",
        "     xmax,\n",
        "     ymin,\n",
        "     ymax):\n",
        "\n",
        "  colors = list(ImageColor.colormap.values())\n",
        "\n",
        "  font = ImageFont.load_default()\n",
        "  display_str = (class_names)\n",
        "  color = colors[hash(class_names) % len(colors)]\n",
        "  image_pil = Image.open(image)\n",
        "  image=draw_bounding_box_on_image(\n",
        "        image_pil,\n",
        "        xmin,\n",
        "        xmax,\n",
        "        ymin,\n",
        "        ymax,\n",
        "        color,\n",
        "        font,\n",
        "        display_str_list=[display_str])\n",
        "  return image\n",
        "\n",
        "def draw_boxes(\n",
        "     image,\n",
        "     class_names,\n",
        "     xmin0, \n",
        "     xmax0, \n",
        "     ymin0, \n",
        "     ymax0):\n",
        "  image = np.array(Image.open(image))\n",
        "  now_image_np=np.zeros((image.shape))\n",
        "  np.copyto(now_image_np , image)\n",
        "\n",
        "  for i in range(0,len(xmin0)):\n",
        "      class_name = class_names[i]\n",
        "      xmin ,xmax, ymin, ymax = xmin0[i] ,xmax0[i], ymin0[i], ymax0[i]\n",
        "      xmin ,xmax, ymin, ymax = [float(ii) for ii in [ xmin ,xmax, ymin, ymax ] ]\n",
        "      colors = list(ImageColor.colormap.values())\n",
        "    \n",
        "      font = ImageFont.load_default()\n",
        "      display_str = (class_name)\n",
        "      color = colors[hash(class_name) % len(colors)]\n",
        "\n",
        "      image_pil = Image.fromarray(np.uint8(now_image_np)).convert(\"RGB\")\n",
        "\n",
        "      draw_bounding_box_on_image(\n",
        "            image_pil,\n",
        "            xmin,\n",
        "            xmax,\n",
        "            ymin,\n",
        "            ymax,\n",
        "            color,\n",
        "            font,\n",
        "            display_str_list=[display_str])\n",
        "    \n",
        "      np.copyto(now_image_np, np.array(image_pil) )\n",
        "\n",
        "  ds(Image.fromarray(np.uint8( np.array(now_image_np) )).convert(\"RGB\") ) "
      ],
      "metadata": {
        "id": "sRznMhs5x_SN"
      },
      "execution_count": null,
      "outputs": []
    },
    {
      "cell_type": "code",
      "source": [
        "def get_label(Label, YouRange):\n",
        "  Result = None\n",
        "  for i in YouRange:\n",
        "    if(Label==i[0]):\n",
        "      Result = i[1]\n",
        "      break\n",
        "  return Result\n",
        "\n",
        "def get_img_path(name, YouRange):\n",
        "  Result = []\n",
        "  for i in YouRange:\n",
        "    if(name==i[0]):\n",
        "      Result.append(i)\n",
        "  return Result      "
      ],
      "metadata": {
        "id": "7B3ieZmdZBo7"
      },
      "execution_count": null,
      "outputs": []
    },
    {
      "cell_type": "code",
      "source": [
        "my_data = get_img_path(file_names[2],csv_content)\n",
        "my_path = \"/root/fiftyone/open-images-v6/train/data/\"+my_data[0][0]+\".jpg\"\n",
        "my_label = [get_label( i[1], class_content) for i in my_data]\n",
        "xmin = [i[2] for i in my_data]\n",
        "xmax = [i[3] for i in my_data]\n",
        "ymin = [i[4] for i in my_data]\n",
        "ymax = [i[5] for i in my_data]\n",
        "draw_boxes( my_path , \n",
        "      my_label ,\n",
        "      xmin , \n",
        "      xmax , \n",
        "      ymin , \n",
        "      ymax \n",
        "      )"
      ],
      "metadata": {
        "id": "1yygMVgm004u"
      },
      "execution_count": null,
      "outputs": []
    },
    {
      "cell_type": "code",
      "source": [
        "def show_image(myName):\n",
        "  my_data = get_img_path(myName,csv_content)\n",
        "  my_path = \"/root/fiftyone/open-images-v6/train/data/\"+my_data[0][0]+\".jpg\"\n",
        "  my_label = [get_label( i[1], class_content) for i in my_data]\n",
        "  xmin = [i[2] for i in my_data]\n",
        "  xmax = [i[3] for i in my_data]\n",
        "  ymin = [i[4] for i in my_data]\n",
        "  ymax = [i[5] for i in my_data]\n",
        "  draw_boxes( my_path , \n",
        "      my_label ,\n",
        "      xmin , \n",
        "      xmax , \n",
        "      ymin , \n",
        "      ymax \n",
        "      )"
      ],
      "metadata": {
        "id": "AOhwn6le4CxF"
      },
      "execution_count": null,
      "outputs": []
    },
    {
      "cell_type": "code",
      "source": [
        "show_image(file_names[98])"
      ],
      "metadata": {
        "id": "FyC-lH1lqIjn"
      },
      "execution_count": null,
      "outputs": []
    },
    {
      "cell_type": "code",
      "source": [
        "for i in file_names[25:30:1]:\n",
        "  show_image(i)"
      ],
      "metadata": {
        "id": "dsgthamu5Hdm"
      },
      "execution_count": null,
      "outputs": []
    }
  ]
}